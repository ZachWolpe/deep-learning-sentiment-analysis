{
 "cells": [
  {
   "cell_type": "markdown",
   "metadata": {},
   "source": [
    "# Roberta\n",
    "\n",
    "\n",
    "Fine-tune a Bert model to classify sentiment.\n",
    "\n",
    "Implementation notes: Roberta init bug:\n",
    "\n",
    "- https://github.com/huggingface/transformers/issues/5421\n",
    "- https://github.com/huggingface/transformers/issues/9882\n",
    "\n",
    "----\n",
    "```\n",
    ": 25.05.24\n",
    ": Zach Wolpe\n",
    ": zachcolinwolpe@gmail.com\n",
    "```\n",
    "---"
   ]
  },
  {
   "cell_type": "code",
   "execution_count": 22,
   "metadata": {},
   "outputs": [
    {
     "name": "stderr",
     "output_type": "stream",
     "text": [
      "[nltk_data] Downloading package stopwords to\n",
      "[nltk_data]     /Users/zachwolpe/nltk_data...\n",
      "[nltk_data]   Package stopwords is already up-to-date!\n"
     ]
    }
   ],
   "source": [
    "# importing neccessary libraries \n",
    "from sklearn.model_selection import train_test_split\n",
    "from transformers import BertTokenizer, BertForSequenceClassification, BertPreTrainedModel, BertModel,AdamW\n",
    "from sklearn.metrics import classification_report, confusion_matrix, accuracy_score, f1_score, precision_score, recall_score\n",
    "from torch.utils.data import TensorDataset, DataLoader\n",
    "import matplotlib.pyplot as plt\n",
    "from wordcloud import WordCloud\n",
    "import seaborn as sns\n",
    "import pandas as pd \n",
    "import numpy as np\n",
    "import torch\n",
    "import nltk\n",
    "nltk.download('stopwords')\n",
    "\n",
    "from sklearn.feature_extraction.text import TfidfVectorizer\n",
    "from imblearn.under_sampling import RandomUnderSampler\n",
    "from imblearn.over_sampling import SMOTE\n",
    "from imblearn.pipeline import Pipeline\n",
    "from collections import Counter\n",
    "import sklearn\n",
    "\n",
    "\n",
    "from nltk.corpus import stopwords\n",
    "import argparse\n",
    "import logging\n",
    "import string\n",
    "import re\n",
    "import os\n",
    "\n",
    "from sklearn.model_selection import train_test_split, KFold\n",
    "import torch.optim as optim\n",
    "from transformers import BertForSequenceClassification, BertTokenizer\n",
    "from torch.utils.data import TensorDataset, DataLoader\n",
    "from sklearn.metrics import accuracy_score, precision_score, recall_score, f1_score, confusion_matrix\n",
    "import torch\n",
    "import numpy as np\n",
    "import matplotlib.pyplot as plt\n",
    "import torch.nn as nn\n",
    "from transformers import BertModel\n",
    "import os"
   ]
  },
  {
   "cell_type": "code",
   "execution_count": 23,
   "metadata": {},
   "outputs": [],
   "source": [
    "from Roberta_classifier import (RobertaWithActivationAndRegularization, RoBertaTokenizer)\n",
    "from ML_training_code import (generate_K_Fold_data, torch_tensorize, plot_training_validation, training_loop)"
   ]
  },
  {
   "cell_type": "markdown",
   "metadata": {},
   "source": [
    "---\n",
    "## Config\n",
    "---"
   ]
  },
  {
   "cell_type": "code",
   "execution_count": 24,
   "metadata": {},
   "outputs": [],
   "source": [
    "# Config ---------------------------------------->>\n",
    "PATH_TO_DATA = '../data/train_test/'\n",
    "SAVE_LOC = '../model-artifacts/'\n",
    "BATCH_SIZE = 10\n",
    "DEBUG_MODE = True\n",
    "EPOCHS = 1\n",
    "CROSS_VALIDATION = False\n",
    "K_FOLDS = 5\n",
    "device = torch.device(\"cuda\" if torch.cuda.is_available() else \"cpu\")\n",
    "# Config ---------------------------------------->>\n",
    "\n",
    "# Load data\n",
    "X_train = pd.read_csv(PATH_TO_DATA + 'X_train.csv')\n",
    "y_train = pd.read_csv(PATH_TO_DATA + 'y_train.csv')\n",
    "X_test = pd.read_csv(PATH_TO_DATA + 'X_test.csv')\n",
    "y_test = pd.read_csv(PATH_TO_DATA + 'y_test.csv')\n",
    "\n",
    "\n",
    "# Downsample for testing\n",
    "if DEBUG_MODE:\n",
    "    X_train = X_train[:10]\n",
    "    y_train = y_train[:10]\n"
   ]
  },
  {
   "cell_type": "markdown",
   "metadata": {},
   "source": [
    "---\n",
    "## Instantiate RoBerto\n",
    "---"
   ]
  },
  {
   "cell_type": "code",
   "execution_count": 25,
   "metadata": {},
   "outputs": [
    {
     "name": "stderr",
     "output_type": "stream",
     "text": [
      "Some weights of RobertaModel were not initialized from the model checkpoint at roberta-base and are newly initialized: ['roberta.pooler.dense.bias', 'roberta.pooler.dense.weight']\n",
      "You should probably TRAIN this model on a down-stream task to be able to use it for predictions and inference.\n"
     ]
    },
    {
     "data": {
      "text/plain": [
       "RobertaWithActivationAndRegularization(\n",
       "  (roberta): RobertaModel(\n",
       "    (embeddings): RobertaEmbeddings(\n",
       "      (word_embeddings): Embedding(50265, 768, padding_idx=1)\n",
       "      (position_embeddings): Embedding(514, 768, padding_idx=1)\n",
       "      (token_type_embeddings): Embedding(1, 768)\n",
       "      (LayerNorm): LayerNorm((768,), eps=1e-05, elementwise_affine=True)\n",
       "      (dropout): Dropout(p=0.1, inplace=False)\n",
       "    )\n",
       "    (encoder): RobertaEncoder(\n",
       "      (layer): ModuleList(\n",
       "        (0-11): 12 x RobertaLayer(\n",
       "          (attention): RobertaAttention(\n",
       "            (self): RobertaSelfAttention(\n",
       "              (query): Linear(in_features=768, out_features=768, bias=True)\n",
       "              (key): Linear(in_features=768, out_features=768, bias=True)\n",
       "              (value): Linear(in_features=768, out_features=768, bias=True)\n",
       "              (dropout): Dropout(p=0.1, inplace=False)\n",
       "            )\n",
       "            (output): RobertaSelfOutput(\n",
       "              (dense): Linear(in_features=768, out_features=768, bias=True)\n",
       "              (LayerNorm): LayerNorm((768,), eps=1e-05, elementwise_affine=True)\n",
       "              (dropout): Dropout(p=0.1, inplace=False)\n",
       "            )\n",
       "          )\n",
       "          (intermediate): RobertaIntermediate(\n",
       "            (dense): Linear(in_features=768, out_features=3072, bias=True)\n",
       "            (intermediate_act_fn): GELUActivation()\n",
       "          )\n",
       "          (output): RobertaOutput(\n",
       "            (dense): Linear(in_features=3072, out_features=768, bias=True)\n",
       "            (LayerNorm): LayerNorm((768,), eps=1e-05, elementwise_affine=True)\n",
       "            (dropout): Dropout(p=0.1, inplace=False)\n",
       "          )\n",
       "        )\n",
       "      )\n",
       "    )\n",
       "    (pooler): RobertaPooler(\n",
       "      (dense): Linear(in_features=768, out_features=768, bias=True)\n",
       "      (activation): Tanh()\n",
       "    )\n",
       "  )\n",
       "  (dropout): Dropout(p=0.5, inplace=False)\n",
       "  (classifier): Linear(in_features=768, out_features=3, bias=True)\n",
       "  (activation): GELU(approximate='none')\n",
       ")"
      ]
     },
     "execution_count": 25,
     "metadata": {},
     "output_type": "execute_result"
    }
   ],
   "source": [
    "# Specify the pretrained BERT model name\n",
    "model_name = 'roberta-base'\n",
    "\n",
    "# Create an instance of the model\n",
    "model = RobertaWithActivationAndRegularization(pretrained_model_name='roberta-base', num_labels=3)\n",
    "\n",
    "# Move the model to GPU if available\n",
    "device = torch.device(\"cuda\" if torch.cuda.is_available() else \"cpu\")\n",
    "model.to(device)"
   ]
  },
  {
   "cell_type": "markdown",
   "metadata": {},
   "source": [
    "----\n",
    "## Training Runtime Hyperparameters\n",
    "----"
   ]
  },
  {
   "cell_type": "code",
   "execution_count": 26,
   "metadata": {},
   "outputs": [],
   "source": [
    "# Define the optimizer and criterion\n",
    "learning_rate = 2e-06\n",
    "weight_decay = 0.0001  \n",
    "optimizer = optim.AdamW(model.parameters(), lr=learning_rate, weight_decay=weight_decay)\n",
    "criterion = nn.CrossEntropyLoss()"
   ]
  },
  {
   "cell_type": "markdown",
   "metadata": {},
   "source": [
    "---\n",
    "## Run without K-Fold Cross Validation\n",
    "----"
   ]
  },
  {
   "cell_type": "code",
   "execution_count": 27,
   "metadata": {},
   "outputs": [],
   "source": [
    "# Generate 1 fold\n",
    "if not CROSS_VALIDATION:\n",
    "    gkfd = generate_K_Fold_data(X_train, y_train, num_splits=K_FOLDS)\n",
    "    X_train_fold, y_train_fold, X_val_fold, y_val_fold, train_index, val_index = next(gkfd)"
   ]
  },
  {
   "cell_type": "markdown",
   "metadata": {},
   "source": [
    "---\n",
    "## Tokenize\n",
    "---"
   ]
  },
  {
   "cell_type": "code",
   "execution_count": 28,
   "metadata": {},
   "outputs": [],
   "source": [
    "if not CROSS_VALIDATION:\n",
    "    input_ids_train, attention_masks_train, y_train = RoBertaTokenizer(X_train_fold, y_train_fold)\n",
    "    input_ids_val, attention_masks_val, y_val = RoBertaTokenizer(X_val_fold, y_val_fold)\n"
   ]
  },
  {
   "cell_type": "markdown",
   "metadata": {},
   "source": [
    "---\n",
    "## Torch Tensors\n",
    "---"
   ]
  },
  {
   "cell_type": "code",
   "execution_count": 29,
   "metadata": {},
   "outputs": [],
   "source": [
    "if not CROSS_VALIDATION:\n",
    "        (train_dataloader,\n",
    "        train_dataloader,\n",
    "        val_dataset,\n",
    "        val_dataloader) = torch_tensorize(input_ids_train,\n",
    "                attention_masks_train,\n",
    "                y_train_fold,\n",
    "                input_ids_val,\n",
    "                attention_masks_val,\n",
    "                y_val_fold,\n",
    "                BATCH_SIZE=BATCH_SIZE)"
   ]
  },
  {
   "cell_type": "markdown",
   "metadata": {},
   "source": [
    "---\n",
    "## Training Loop\n",
    "---"
   ]
  },
  {
   "cell_type": "code",
   "execution_count": 30,
   "metadata": {},
   "outputs": [
    {
     "name": "stdout",
     "output_type": "stream",
     "text": [
      "Training the model...\n",
      "Epoch 1/1 - Training Loss: 1.0935 - Validation Loss: 1.1678 - Training Accuracy: 0.3750 - Validation Accuracy: 0.0000\n",
      "Finished Training.\n"
     ]
    }
   ],
   "source": [
    "if not CROSS_VALIDATION:\n",
    "    # Training loop\n",
    "    train_losses_fold, valid_losses_fold, accuracies_fold = training_loop(model,\n",
    "        optimizer,\n",
    "        criterion,\n",
    "        train_dataloader,\n",
    "        val_dataloader,\n",
    "        device,\n",
    "        epochs=EPOCHS)\n"
   ]
  },
  {
   "cell_type": "markdown",
   "metadata": {},
   "source": [
    "---\n",
    "## Plot training and validation loss\n",
    "---"
   ]
  },
  {
   "cell_type": "code",
   "execution_count": 35,
   "metadata": {},
   "outputs": [
    {
     "data": {
      "image/png": "[encoded data removed]",
      "text/plain": [
       "<Figure size 400x200 with 1 Axes>"
      ]
     },
     "metadata": {},
     "output_type": "display_data"
    }
   ],
   "source": [
    "if not CROSS_VALIDATION:\n",
    "    plot_training_validation(train_losses_fold, valid_losses_fold)"
   ]
  },
  {
   "cell_type": "markdown",
   "metadata": {},
   "source": [
    "---\n",
    "## K-Fold Cross-Validation\n",
    "---"
   ]
  },
  {
   "cell_type": "code",
   "execution_count": 32,
   "metadata": {},
   "outputs": [],
   "source": [
    "if CROSS_VALIDATION:\n",
    "    \n",
    "    # Build generator\n",
    "    gkfd = generate_K_Fold_data(X_train, y_train, num_splits=K_FOLDS)\n",
    "    \n",
    "    results = []\n",
    "    for i, _gkfd in enumerate(gkfd):\n",
    "        print(f'Fold {i+1}/{K_FOLDS}')\n",
    "        X_train_fold, y_train_fold, X_val_fold, y_val_fold, train_index, val_index = _gkfd\n",
    "\n",
    "        # Tokenize\n",
    "        input_ids_train, attention_masks_train, y_train = RoBertaTokenizer(X_train_fold, y_train_fold)\n",
    "        input_ids_val, attention_masks_val, y_val = RoBertaTokenizer(X_val_fold, y_val_fold)\n",
    "\n",
    "\n",
    "        # Create Torch Tensors\n",
    "        (train_dataloader,\n",
    "        train_dataloader,\n",
    "        val_dataset,\n",
    "        val_dataloader) = torch_tensorize(input_ids_train,\n",
    "                attention_masks_train,\n",
    "                y_train_fold,\n",
    "                input_ids_val,\n",
    "                attention_masks_val,\n",
    "                y_val_fold,\n",
    "                BATCH_SIZE=BATCH_SIZE)\n",
    "\n",
    "        # Define lists to store metrics for each fold\n",
    "        train_losses_per_fold = []\n",
    "        valid_losses_per_fold = []\n",
    "        accuracies_per_fold = []\n",
    "\n",
    "        # Training loop\n",
    "        train_losses_fold, valid_losses_fold, accuracies_fold = training_loop(model,\n",
    "            optimizer,\n",
    "            criterion,\n",
    "            train_dataloader,\n",
    "            val_dataloader,\n",
    "            device,\n",
    "            epochs=EPOCHS)\n",
    "        \n",
    "        # Save metrics for this fold\n",
    "        train_losses_per_fold.append(train_losses_fold)\n",
    "        valid_losses_per_fold.append(valid_losses_fold)\n",
    "        accuracies_per_fold.append(accuracies_fold)\n",
    "\n",
    "        # save results\n",
    "        results.append({\n",
    "            'train_losses': train_losses_fold,\n",
    "            'valid_losses': valid_losses_fold,\n",
    "            'accuracies': accuracies_fold\n",
    "        })"
   ]
  },
  {
   "cell_type": "code",
   "execution_count": null,
   "metadata": {},
   "outputs": [],
   "source": [
    "    "
   ]
  },
  {
   "cell_type": "markdown",
   "metadata": {},
   "source": [
    "---\n",
    "## Save Model\n",
    "---"
   ]
  },
  {
   "cell_type": "code",
   "execution_count": 33,
   "metadata": {},
   "outputs": [],
   "source": [
    "# Save Bert Model\n",
    "if not DEBUG_MODE:\n",
    "    torch.save(model.state_dict(), f'{SAVE_LOC}robert_model.pth')\n"
   ]
  }
 ],
 "metadata": {
  "kernelspec": {
   "display_name": "Python 3",
   "language": "python",
   "name": "python3"
  },
  "language_info": {
   "codemirror_mode": {
    "name": "ipython",
    "version": 3
   },
   "file_extension": ".py",
   "mimetype": "text/x-python",
   "name": "python",
   "nbconvert_exporter": "python",
   "pygments_lexer": "ipython3",
   "version": "3.12.0"
  }
 },
 "nbformat": 4,
 "nbformat_minor": 2
}
