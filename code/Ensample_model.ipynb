{
 "cells": [
  {
   "cell_type": "markdown",
   "metadata": {},
   "source": []
  },
  {
   "cell_type": "markdown",
   "metadata": {},
   "source": [
    "# Ensemble Model\n",
    "\n",
    "\n",
    "----\n",
    "```\n",
    ": 26.05.24\n",
    ": zachcolinwolpe@gmail.com\n",
    "```\n",
    "----"
   ]
  },
  {
   "cell_type": "code",
   "execution_count": 1,
   "metadata": {},
   "outputs": [
    {
     "name": "stderr",
     "output_type": "stream",
     "text": [
      "[nltk_data] Downloading package stopwords to\n",
      "[nltk_data]     /Users/zachwolpe/nltk_data...\n",
      "[nltk_data]   Package stopwords is already up-to-date!\n"
     ]
    }
   ],
   "source": [
    "# importing neccessary libraries \n",
    "from sklearn.model_selection import train_test_split\n",
    "from transformers import BertTokenizer, BertForSequenceClassification, BertPreTrainedModel, BertModel,AdamW\n",
    "from sklearn.metrics import classification_report, confusion_matrix, accuracy_score, f1_score, precision_score, recall_score\n",
    "from torch.utils.data import TensorDataset, DataLoader\n",
    "import matplotlib.pyplot as plt\n",
    "from wordcloud import WordCloud\n",
    "import seaborn as sns\n",
    "import pandas as pd \n",
    "import numpy as np\n",
    "import torch\n",
    "import nltk\n",
    "nltk.download('stopwords')\n",
    "\n",
    "from sklearn.feature_extraction.text import TfidfVectorizer\n",
    "from imblearn.under_sampling import RandomUnderSampler\n",
    "from imblearn.over_sampling import SMOTE\n",
    "from imblearn.pipeline import Pipeline\n",
    "from collections import Counter\n",
    "import sklearn\n",
    "\n",
    "\n",
    "from nltk.corpus import stopwords\n",
    "import argparse\n",
    "import logging\n",
    "import string\n",
    "import re\n",
    "import os\n",
    "\n",
    "from sklearn.model_selection import train_test_split, KFold\n",
    "import torch.optim as optim\n",
    "from transformers import BertForSequenceClassification, BertTokenizer\n",
    "from torch.utils.data import TensorDataset, DataLoader\n",
    "from sklearn.metrics import accuracy_score, precision_score, recall_score, f1_score, confusion_matrix\n",
    "import torch\n",
    "import numpy as np\n",
    "import matplotlib.pyplot as plt\n",
    "import torch.nn as nn\n",
    "from transformers import BertModel\n",
    "import os\n"
   ]
  },
  {
   "cell_type": "code",
   "execution_count": 2,
   "metadata": {},
   "outputs": [
    {
     "name": "stderr",
     "output_type": "stream",
     "text": [
      "[nltk_data] Downloading package stopwords to\n",
      "[nltk_data]     /Users/zachwolpe/nltk_data...\n",
      "[nltk_data]   Package stopwords is already up-to-date!\n"
     ]
    }
   ],
   "source": [
    "from Roberta_classifier import (RobertaWithActivationAndRegularization, RoBertaTokenizer)\n",
    "from ML_training_code import (generate_K_Fold_data, torch_tensorize, plot_training_validation, training_loop)"
   ]
  },
  {
   "cell_type": "code",
   "execution_count": 3,
   "metadata": {},
   "outputs": [],
   "source": [
    "from Bert_classifier import (BertWithActivationAndRegularization, Bert_tokenize)\n",
    "from ML_training_code import (generate_K_Fold_data, torch_tensorize, plot_training_validation, training_loop)\n"
   ]
  },
  {
   "cell_type": "markdown",
   "metadata": {},
   "source": [
    "---\n",
    "## Load Pre-Trained Models\n",
    "----"
   ]
  },
  {
   "cell_type": "code",
   "execution_count": 4,
   "metadata": {},
   "outputs": [
    {
     "data": {
      "text/plain": [
       "((1422, 1), (1422, 1))"
      ]
     },
     "execution_count": 4,
     "metadata": {},
     "output_type": "execute_result"
    }
   ],
   "source": [
    "# Config ---------------------------------------->>\n",
    "PATH_TO_DATA = '../data/train_test/'\n",
    "SAVE_LOC = '../model-artifacts/'\n",
    "BERT_MODEL_NAME = 'bert_model_debug_model.pth'\n",
    "ROBERTA_MODEL_NAME = 'roberta_model_debug_model.pth'\n",
    "device = torch.device(\"cuda\" if torch.cuda.is_available() else \"cpu\")\n",
    "DEBUG_MODE = True\n",
    "BATCH_SIZE = 10\n",
    "# Config ---------------------------------------->>\n",
    "\n",
    "\n",
    "# -+-+-+-+-+-+-+-+-+-+-+-+-+-+-+-+-+-+-+-+-+-+-+-+-+-+-+-+-+-+-+-+-+-+-+-+-+-+-+-+-+\n",
    "# Thelma: updated params -+-+-+-+-+-+-+-+-+-+-+-+-+-+-+-+-+-+-+-+-+-+-+-+-+-+-+-+-+-+\n",
    "SAVE_LOC = '../thelma-models/'\n",
    "BERT_MODEL_NAME = 'bert-base-uncased.pth'\n",
    "ROBERTA_MODEL_NAME = 'roberta-base.pth'\n",
    "DEBUG_MODE = False\n",
    "# Thelma: updated params -+-+-+-+-+-+-+-+-+-+-+-+-+-+-+-+-+-+-+-+-+-+-+-+-+-+-+-+-+-+\n",
    "# -+-+-+-+-+-+-+-+-+-+-+-+-+-+-+-+-+-+-+-+-+-+-+-+-+-+-+-+-+-+-+-+-+-+-+-+-+-+-+-+-+\n",
    "\n",
    "# Load data\n",
    "X_test = pd.read_csv(PATH_TO_DATA + 'X_test.csv')\n",
    "y_test = pd.read_csv(PATH_TO_DATA + 'y_test.csv')\n",
    "\n",
    "\n",
    "# Downsample for testing\n",
    "if DEBUG_MODE:\n",
    "    X_test = X_test[:3]\n",
    "    y_test = y_test[:3]\n",
    "\n",
    "\n",
    "X_test.shape, y_test.shape"
   ]
  },
  {
   "cell_type": "markdown",
   "metadata": {},
   "source": [
    "----\n",
    "# Load Models\n",
    "----"
   ]
  },
  {
   "cell_type": "code",
   "execution_count": 5,
   "metadata": {},
   "outputs": [],
   "source": [
    "\n",
    "# load Bert model\n",
    "Bert_model = BertWithActivationAndRegularization(pretrained_model_name='bert-base-uncased', num_labels=3)\n",
    "\n",
    "try:\n",
    "    _bert_state_keys = torch.load(f'{SAVE_LOC}{BERT_MODEL_NAME}')\n",
    "# Bert_model\n",
    "\n",
    "except:\n",
    "    _bert_state_keys = torch.load(f'{SAVE_LOC}{BERT_MODEL_NAME}')\n",
    "    Bert_model.load_state_dict(_bert_state_keys['model_state_dict'])\n",
    "\n",
    "\n"
   ]
  },
  {
   "cell_type": "code",
   "execution_count": 6,
   "metadata": {},
   "outputs": [
    {
     "name": "stderr",
     "output_type": "stream",
     "text": [
      "Some weights of RobertaModel were not initialized from the model checkpoint at roberta-base and are newly initialized: ['roberta.pooler.dense.bias', 'roberta.pooler.dense.weight']\n",
      "You should probably TRAIN this model on a down-stream task to be able to use it for predictions and inference.\n"
     ]
    }
   ],
   "source": [
    "\n",
    "# Load RoBerta model\n",
    "RoBerta_model = RobertaWithActivationAndRegularization(pretrained_model_name='roberta-base', num_labels=3,)\n",
    "\n",
    "try:\n",
    "    RoBerta_model.load_state_dict(torch.load(f'{SAVE_LOC}{ROBERTA_MODEL_NAME}'))\n",
    "except:\n",
    "    _roberta_state_keys = torch.load(f'{SAVE_LOC}{ROBERTA_MODEL_NAME}')\n",
    "    RoBerta_model.load_state_dict(_roberta_state_keys['model_state_dict'])\n",
    "\n"
   ]
  },
  {
   "cell_type": "markdown",
   "metadata": {},
   "source": [
    "----\n",
    "# Inference Engine\n",
    "----"
   ]
  },
  {
   "cell_type": "code",
   "execution_count": 7,
   "metadata": {},
   "outputs": [],
   "source": [
    "\n",
    "def inference(model, X_test, y_test, tokenizer=Bert_tokenize, criterion=nn.CrossEntropyLoss()):\n",
    "    \"\"\"\n",
    "    Perform inference on the model\n",
    "\n",
    "    Return softmax probabilities, predictions, and metrics\n",
    "    \"\"\"    \n",
    "    # evaluate on test data\n",
    "    model.eval()\n",
    "    input_ids_test, attention_masks_test, y_test = tokenizer(X_test, y_test)\n",
    "    test_dataset = TensorDataset(input_ids_test, attention_masks_test, y_test)\n",
    "    test_dataloader = DataLoader(test_dataset, batch_size=BATCH_SIZE)\n",
    "\n",
    "    total_test_loss = 0\n",
    "    correct_test = 0\n",
    "    total_test = 0\n",
    "\n",
    "    #return items\n",
    "    softmax_prob = []\n",
    "    predictions = []\n",
    "    accuracy = []\n",
    "\n",
    "    with torch.no_grad():\n",
    "        for batch in test_dataloader:\n",
    "            input_ids, attention_mask, labels = batch\n",
    "            input_ids, attention_mask, labels = input_ids.to(device), attention_mask.to(device), labels.to(device)\n",
    "            labels = labels.reshape(-1)  # Reshape labels once\n",
    "\n",
    "            outputs = model(input_ids=input_ids, attention_mask=attention_mask)\n",
    "            logits = outputs\n",
    "            loss = criterion(logits, labels)\n",
    "            total_test_loss += loss.item()\n",
    "\n",
    "            _, predicted = torch.max(logits, 1)\n",
    "            correct_test += (predicted == labels).sum().item()\n",
    "            total_test += labels.size(0)\n",
    "            accuracy_test = correct_test / total_test\n",
    "            print(f'Test Loss: {total_test_loss:.4f} - Test Accuracy: {accuracy_test:.4f}')\n",
    "\n",
    "            # Get softmax probabilities\n",
    "            softmax_prob.append(nn.functional.softmax(logits, dim=1).cpu().numpy())\n",
    "            predictions.append(predicted.cpu().numpy())\n",
    "            accuracy.append(accuracy_test)\n",
    "\n",
    "        # flatten the list\n",
    "        softmax_prob = np.concatenate(softmax_prob)\n",
    "        predictions = np.concatenate(predictions)\n",
    "        accuracy = np.mean(accuracy)\n",
    "        \n",
    "        return softmax_prob, predictions, accuracy\n",
    "\n"
   ]
  },
  {
   "cell_type": "markdown",
   "metadata": {},
   "source": [
    "----\n",
    "# Model Evaluation: Bert \n",
    "----"
   ]
  },
  {
   "cell_type": "code",
   "execution_count": 21,
   "metadata": {},
   "outputs": [
    {
     "name": "stdout",
     "output_type": "stream",
     "text": [
      "Test Loss: 0.9119 - Test Accuracy: 0.8000\n",
      "Test Loss: 1.4482 - Test Accuracy: 0.7500\n",
      "Test Loss: 2.2482 - Test Accuracy: 0.7333\n",
      "Test Loss: 2.3505 - Test Accuracy: 0.8000\n",
      "Test Loss: 3.3951 - Test Accuracy: 0.7800\n",
      "Test Loss: 3.6045 - Test Accuracy: 0.8000\n",
      "Test Loss: 4.0885 - Test Accuracy: 0.8143\n",
      "Test Loss: 5.4044 - Test Accuracy: 0.8000\n",
      "Test Loss: 6.7665 - Test Accuracy: 0.7889\n",
      "Test Loss: 7.6394 - Test Accuracy: 0.7800\n",
      "Test Loss: 8.3547 - Test Accuracy: 0.7727\n",
      "Test Loss: 8.6734 - Test Accuracy: 0.7750\n",
      "Test Loss: 9.2528 - Test Accuracy: 0.7769\n",
      "Test Loss: 10.1618 - Test Accuracy: 0.7714\n",
      "Test Loss: 10.9091 - Test Accuracy: 0.7667\n",
      "Test Loss: 11.2582 - Test Accuracy: 0.7750\n",
      "Test Loss: 11.7147 - Test Accuracy: 0.7706\n",
      "Test Loss: 12.1509 - Test Accuracy: 0.7722\n",
      "Test Loss: 12.2152 - Test Accuracy: 0.7842\n",
      "Test Loss: 12.8568 - Test Accuracy: 0.7850\n",
      "Test Loss: 13.4216 - Test Accuracy: 0.7857\n",
      "Test Loss: 14.4621 - Test Accuracy: 0.7818\n",
      "Test Loss: 14.7104 - Test Accuracy: 0.7870\n",
      "Test Loss: 16.1644 - Test Accuracy: 0.7833\n",
      "Test Loss: 17.5677 - Test Accuracy: 0.7800\n",
      "Test Loss: 17.6759 - Test Accuracy: 0.7885\n",
      "Test Loss: 18.4853 - Test Accuracy: 0.7889\n",
      "Test Loss: 19.0570 - Test Accuracy: 0.7929\n",
      "Test Loss: 19.7141 - Test Accuracy: 0.7931\n",
      "Test Loss: 20.4130 - Test Accuracy: 0.7900\n",
      "Test Loss: 20.5129 - Test Accuracy: 0.7968\n",
      "Test Loss: 21.0824 - Test Accuracy: 0.7969\n",
      "Test Loss: 21.8777 - Test Accuracy: 0.7970\n",
      "Test Loss: 23.1221 - Test Accuracy: 0.7912\n",
      "Test Loss: 23.5044 - Test Accuracy: 0.7914\n",
      "Test Loss: 24.0005 - Test Accuracy: 0.7944\n",
      "Test Loss: 24.2824 - Test Accuracy: 0.7973\n",
      "Test Loss: 25.2447 - Test Accuracy: 0.7947\n",
      "Test Loss: 25.7272 - Test Accuracy: 0.7974\n",
      "Test Loss: 27.9010 - Test Accuracy: 0.7875\n",
      "Test Loss: 28.2641 - Test Accuracy: 0.7902\n",
      "Test Loss: 28.5425 - Test Accuracy: 0.7905\n",
      "Test Loss: 28.5844 - Test Accuracy: 0.7953\n",
      "Test Loss: 28.6742 - Test Accuracy: 0.7977\n",
      "Test Loss: 28.9504 - Test Accuracy: 0.7978\n",
      "Test Loss: 29.6889 - Test Accuracy: 0.7978\n",
      "Test Loss: 29.8353 - Test Accuracy: 0.8021\n",
      "Test Loss: 31.0967 - Test Accuracy: 0.8000\n",
      "Test Loss: 31.6741 - Test Accuracy: 0.8000\n",
      "Test Loss: 32.2325 - Test Accuracy: 0.8000\n",
      "Test Loss: 32.9622 - Test Accuracy: 0.8000\n",
      "Test Loss: 33.5509 - Test Accuracy: 0.8000\n",
      "Test Loss: 33.9585 - Test Accuracy: 0.8019\n",
      "Test Loss: 35.0481 - Test Accuracy: 0.8000\n",
      "Test Loss: 35.8526 - Test Accuracy: 0.8000\n",
      "Test Loss: 36.2512 - Test Accuracy: 0.8018\n",
      "Test Loss: 36.9795 - Test Accuracy: 0.8018\n",
      "Test Loss: 37.5284 - Test Accuracy: 0.8017\n",
      "Test Loss: 37.6043 - Test Accuracy: 0.8051\n",
      "Test Loss: 37.6738 - Test Accuracy: 0.8083\n",
      "Test Loss: 38.0300 - Test Accuracy: 0.8098\n",
      "Test Loss: 39.9665 - Test Accuracy: 0.8048\n",
      "Test Loss: 40.7594 - Test Accuracy: 0.8048\n",
      "Test Loss: 40.8686 - Test Accuracy: 0.8063\n",
      "Test Loss: 41.9151 - Test Accuracy: 0.8031\n",
      "Test Loss: 42.6660 - Test Accuracy: 0.8015\n",
      "Test Loss: 43.0594 - Test Accuracy: 0.8030\n",
      "Test Loss: 43.5590 - Test Accuracy: 0.8029\n",
      "Test Loss: 44.0567 - Test Accuracy: 0.8043\n",
      "Test Loss: 44.1807 - Test Accuracy: 0.8057\n",
      "Test Loss: 45.7911 - Test Accuracy: 0.8028\n",
      "Test Loss: 46.2610 - Test Accuracy: 0.8028\n",
      "Test Loss: 46.2937 - Test Accuracy: 0.8055\n",
      "Test Loss: 47.1049 - Test Accuracy: 0.8054\n",
      "Test Loss: 47.6139 - Test Accuracy: 0.8053\n",
      "Test Loss: 47.9927 - Test Accuracy: 0.8066\n",
      "Test Loss: 48.1432 - Test Accuracy: 0.8091\n",
      "Test Loss: 48.9983 - Test Accuracy: 0.8090\n",
      "Test Loss: 49.5280 - Test Accuracy: 0.8101\n",
      "Test Loss: 50.6218 - Test Accuracy: 0.8063\n",
      "Test Loss: 51.6237 - Test Accuracy: 0.8037\n",
      "Test Loss: 52.5516 - Test Accuracy: 0.8024\n",
      "Test Loss: 53.7382 - Test Accuracy: 0.8000\n",
      "Test Loss: 53.8344 - Test Accuracy: 0.8024\n",
      "Test Loss: 53.9953 - Test Accuracy: 0.8035\n",
      "Test Loss: 55.0798 - Test Accuracy: 0.8012\n",
      "Test Loss: 55.3748 - Test Accuracy: 0.8023\n",
      "Test Loss: 55.4659 - Test Accuracy: 0.8045\n",
      "Test Loss: 56.7929 - Test Accuracy: 0.8034\n",
      "Test Loss: 57.1217 - Test Accuracy: 0.8033\n",
      "Test Loss: 57.2711 - Test Accuracy: 0.8044\n",
      "Test Loss: 57.7018 - Test Accuracy: 0.8054\n",
      "Test Loss: 58.4695 - Test Accuracy: 0.8043\n",
      "Test Loss: 58.9725 - Test Accuracy: 0.8043\n",
      "Test Loss: 59.1286 - Test Accuracy: 0.8053\n",
      "Test Loss: 59.7111 - Test Accuracy: 0.8052\n",
      "Test Loss: 60.2758 - Test Accuracy: 0.8052\n",
      "Test Loss: 61.0456 - Test Accuracy: 0.8041\n",
      "Test Loss: 61.4328 - Test Accuracy: 0.8030\n",
      "Test Loss: 61.9382 - Test Accuracy: 0.8030\n",
      "Test Loss: 62.7261 - Test Accuracy: 0.8020\n",
      "Test Loss: 63.2798 - Test Accuracy: 0.8020\n",
      "Test Loss: 63.2987 - Test Accuracy: 0.8039\n",
      "Test Loss: 63.9997 - Test Accuracy: 0.8019\n",
      "Test Loss: 64.0811 - Test Accuracy: 0.8038\n",
      "Test Loss: 64.4998 - Test Accuracy: 0.8047\n",
      "Test Loss: 65.0909 - Test Accuracy: 0.8037\n",
      "Test Loss: 65.2297 - Test Accuracy: 0.8046\n",
      "Test Loss: 65.8439 - Test Accuracy: 0.8055\n",
      "Test Loss: 65.9893 - Test Accuracy: 0.8073\n",
      "Test Loss: 66.8809 - Test Accuracy: 0.8072\n",
      "Test Loss: 67.1048 - Test Accuracy: 0.8080\n",
      "Test Loss: 68.3099 - Test Accuracy: 0.8071\n",
      "Test Loss: 68.7859 - Test Accuracy: 0.8079\n",
      "Test Loss: 69.1100 - Test Accuracy: 0.8087\n",
      "Test Loss: 70.4422 - Test Accuracy: 0.8069\n",
      "Test Loss: 71.0561 - Test Accuracy: 0.8077\n",
      "Test Loss: 71.5002 - Test Accuracy: 0.8085\n",
      "Test Loss: 72.0591 - Test Accuracy: 0.8092\n",
      "Test Loss: 72.7987 - Test Accuracy: 0.8092\n",
      "Test Loss: 73.4828 - Test Accuracy: 0.8091\n",
      "Test Loss: 73.7047 - Test Accuracy: 0.8090\n",
      "Test Loss: 74.3393 - Test Accuracy: 0.8073\n",
      "Test Loss: 74.4139 - Test Accuracy: 0.8089\n",
      "Test Loss: 74.5138 - Test Accuracy: 0.8104\n",
      "Test Loss: 75.2666 - Test Accuracy: 0.8103\n",
      "Test Loss: 76.5420 - Test Accuracy: 0.8087\n",
      "Test Loss: 76.5828 - Test Accuracy: 0.8102\n",
      "Test Loss: 77.1313 - Test Accuracy: 0.8101\n",
      "Test Loss: 77.6650 - Test Accuracy: 0.8108\n",
      "Test Loss: 77.7296 - Test Accuracy: 0.8122\n",
      "Test Loss: 78.0104 - Test Accuracy: 0.8129\n",
      "Test Loss: 78.6092 - Test Accuracy: 0.8135\n",
      "Test Loss: 79.5586 - Test Accuracy: 0.8134\n",
      "Test Loss: 80.1797 - Test Accuracy: 0.8133\n",
      "Test Loss: 80.7192 - Test Accuracy: 0.8132\n",
      "Test Loss: 81.2769 - Test Accuracy: 0.8131\n",
      "Test Loss: 81.7510 - Test Accuracy: 0.8138\n",
      "Test Loss: 82.5939 - Test Accuracy: 0.8129\n",
      "Test Loss: 83.5499 - Test Accuracy: 0.8121\n",
      "Test Loss: 83.5987 - Test Accuracy: 0.8135\n",
      "Test Loss: 84.3058 - Test Accuracy: 0.8127\n",
      "Test Loss: 84.7302 - Test Accuracy: 0.8122\n"
     ]
    },
    {
     "data": {
      "text/plain": [
       "(array([[0.01167926, 0.9558555 , 0.03246526],\n",
       "        [0.00395421, 0.0040915 , 0.99195427],\n",
       "        [0.03429046, 0.76527894, 0.20043065],\n",
       "        ...,\n",
       "        [0.00571223, 0.0073569 , 0.98693085],\n",
       "        [0.9406599 , 0.05330991, 0.00603017],\n",
       "        [0.5350184 , 0.45488903, 0.01009255]], dtype=float32),\n",
       " array([1, 2, 1, ..., 2, 0, 0]),\n",
       " 0.7997736432553271)"
      ]
     },
     "execution_count": 21,
     "metadata": {},
     "output_type": "execute_result"
    }
   ],
   "source": [
    "(softmax_prob_Bert,\n",
    " predictions_Bert,\n",
    " accuracy_Bert) = inference(Bert_model,\n",
    "                            X_test,\n",
    "                            y_test,\n",
    "                            tokenizer=Bert_tokenize)\n",
    "softmax_prob_Bert, predictions_Bert, accuracy_Bert\n",
    "\n"
   ]
  },
  {
   "cell_type": "code",
   "execution_count": 22,
   "metadata": {},
   "outputs": [
    {
     "data": {
      "text/plain": [
       "(array([[0.01167926, 0.9558555 , 0.03246526],\n",
       "        [0.00395421, 0.0040915 , 0.99195427],\n",
       "        [0.03429046, 0.76527894, 0.20043065],\n",
       "        ...,\n",
       "        [0.00571223, 0.0073569 , 0.98693085],\n",
       "        [0.9406599 , 0.05330991, 0.00603017],\n",
       "        [0.5350184 , 0.45488903, 0.01009255]], dtype=float32),\n",
       " 0.7997736432553271)"
      ]
     },
     "execution_count": 22,
     "metadata": {},
     "output_type": "execute_result"
    }
   ],
   "source": [
    "softmax_prob_Bert, accuracy_Bert"
   ]
  },
  {
   "cell_type": "markdown",
   "metadata": {},
   "source": [
    "----\n",
    "# Model Evaluation: RoBerta \n",
    "----"
   ]
  },
  {
   "cell_type": "code",
   "execution_count": 23,
   "metadata": {},
   "outputs": [
    {
     "name": "stdout",
     "output_type": "stream",
     "text": [
      "Test Loss: 1.3179 - Test Accuracy: 0.7000\n",
      "Test Loss: 2.4354 - Test Accuracy: 0.6500\n",
      "Test Loss: 3.4487 - Test Accuracy: 0.6667\n",
      "Test Loss: 4.2255 - Test Accuracy: 0.7000\n",
      "Test Loss: 5.4550 - Test Accuracy: 0.7000\n",
      "Test Loss: 5.4869 - Test Accuracy: 0.7500\n",
      "Test Loss: 5.4962 - Test Accuracy: 0.7857\n",
      "Test Loss: 7.0697 - Test Accuracy: 0.7625\n",
      "Test Loss: 7.8033 - Test Accuracy: 0.7778\n",
      "Test Loss: 9.3687 - Test Accuracy: 0.7600\n",
      "Test Loss: 9.7111 - Test Accuracy: 0.7727\n",
      "Test Loss: 9.7933 - Test Accuracy: 0.7917\n",
      "Test Loss: 10.3659 - Test Accuracy: 0.8000\n",
      "Test Loss: 11.3466 - Test Accuracy: 0.7929\n",
      "Test Loss: 12.3766 - Test Accuracy: 0.7867\n",
      "Test Loss: 12.7735 - Test Accuracy: 0.7937\n",
      "Test Loss: 13.3210 - Test Accuracy: 0.8000\n",
      "Test Loss: 13.9617 - Test Accuracy: 0.8000\n",
      "Test Loss: 14.0921 - Test Accuracy: 0.8053\n",
      "Test Loss: 14.5240 - Test Accuracy: 0.8100\n",
      "Test Loss: 15.0799 - Test Accuracy: 0.8143\n",
      "Test Loss: 16.2730 - Test Accuracy: 0.8045\n",
      "Test Loss: 16.5901 - Test Accuracy: 0.8087\n",
      "Test Loss: 18.3639 - Test Accuracy: 0.7958\n",
      "Test Loss: 19.7793 - Test Accuracy: 0.7920\n",
      "Test Loss: 20.8022 - Test Accuracy: 0.7923\n",
      "Test Loss: 21.5437 - Test Accuracy: 0.7926\n",
      "Test Loss: 22.6232 - Test Accuracy: 0.7893\n",
      "Test Loss: 23.7301 - Test Accuracy: 0.7862\n",
      "Test Loss: 24.0294 - Test Accuracy: 0.7900\n",
      "Test Loss: 24.4472 - Test Accuracy: 0.7903\n",
      "Test Loss: 25.5670 - Test Accuracy: 0.7875\n",
      "Test Loss: 26.7950 - Test Accuracy: 0.7818\n",
      "Test Loss: 27.6749 - Test Accuracy: 0.7824\n",
      "Test Loss: 28.0767 - Test Accuracy: 0.7857\n",
      "Test Loss: 28.5018 - Test Accuracy: 0.7889\n",
      "Test Loss: 28.5239 - Test Accuracy: 0.7946\n",
      "Test Loss: 29.5007 - Test Accuracy: 0.7947\n",
      "Test Loss: 29.7322 - Test Accuracy: 0.7974\n",
      "Test Loss: 32.1651 - Test Accuracy: 0.7900\n",
      "Test Loss: 32.7026 - Test Accuracy: 0.7927\n",
      "Test Loss: 33.2698 - Test Accuracy: 0.7952\n",
      "Test Loss: 33.3121 - Test Accuracy: 0.8000\n",
      "Test Loss: 33.4570 - Test Accuracy: 0.8023\n",
      "Test Loss: 33.7846 - Test Accuracy: 0.8022\n",
      "Test Loss: 35.1685 - Test Accuracy: 0.8000\n",
      "Test Loss: 35.1898 - Test Accuracy: 0.8043\n",
      "Test Loss: 36.1856 - Test Accuracy: 0.8042\n",
      "Test Loss: 37.1566 - Test Accuracy: 0.8041\n",
      "Test Loss: 37.3459 - Test Accuracy: 0.8060\n",
      "Test Loss: 38.0147 - Test Accuracy: 0.8078\n",
      "Test Loss: 38.5940 - Test Accuracy: 0.8096\n",
      "Test Loss: 39.2030 - Test Accuracy: 0.8113\n",
      "Test Loss: 39.9431 - Test Accuracy: 0.8111\n",
      "Test Loss: 41.0682 - Test Accuracy: 0.8109\n",
      "Test Loss: 41.8595 - Test Accuracy: 0.8125\n",
      "Test Loss: 42.8440 - Test Accuracy: 0.8105\n",
      "Test Loss: 43.6009 - Test Accuracy: 0.8103\n",
      "Test Loss: 43.7423 - Test Accuracy: 0.8119\n",
      "Test Loss: 44.1643 - Test Accuracy: 0.8133\n",
      "Test Loss: 44.3902 - Test Accuracy: 0.8148\n",
      "Test Loss: 45.6870 - Test Accuracy: 0.8129\n",
      "Test Loss: 46.4152 - Test Accuracy: 0.8111\n",
      "Test Loss: 46.7886 - Test Accuracy: 0.8125\n",
      "Test Loss: 47.7521 - Test Accuracy: 0.8108\n",
      "Test Loss: 48.0218 - Test Accuracy: 0.8121\n",
      "Test Loss: 48.1439 - Test Accuracy: 0.8134\n",
      "Test Loss: 48.4765 - Test Accuracy: 0.8147\n",
      "Test Loss: 49.0567 - Test Accuracy: 0.8159\n",
      "Test Loss: 49.1715 - Test Accuracy: 0.8171\n",
      "Test Loss: 50.7974 - Test Accuracy: 0.8141\n",
      "Test Loss: 51.4676 - Test Accuracy: 0.8139\n",
      "Test Loss: 51.6503 - Test Accuracy: 0.8151\n",
      "Test Loss: 52.7939 - Test Accuracy: 0.8135\n",
      "Test Loss: 52.8269 - Test Accuracy: 0.8160\n",
      "Test Loss: 53.1631 - Test Accuracy: 0.8171\n",
      "Test Loss: 53.2285 - Test Accuracy: 0.8195\n",
      "Test Loss: 54.0982 - Test Accuracy: 0.8179\n",
      "Test Loss: 54.5687 - Test Accuracy: 0.8177\n",
      "Test Loss: 55.5466 - Test Accuracy: 0.8175\n",
      "Test Loss: 56.7091 - Test Accuracy: 0.8160\n",
      "Test Loss: 57.8906 - Test Accuracy: 0.8146\n",
      "Test Loss: 58.3926 - Test Accuracy: 0.8157\n",
      "Test Loss: 58.4294 - Test Accuracy: 0.8179\n",
      "Test Loss: 58.5011 - Test Accuracy: 0.8200\n",
      "Test Loss: 59.6155 - Test Accuracy: 0.8186\n",
      "Test Loss: 60.4383 - Test Accuracy: 0.8172\n",
      "Test Loss: 60.6174 - Test Accuracy: 0.8182\n",
      "Test Loss: 62.0470 - Test Accuracy: 0.8157\n",
      "Test Loss: 62.0718 - Test Accuracy: 0.8178\n",
      "Test Loss: 62.3572 - Test Accuracy: 0.8176\n",
      "Test Loss: 63.3179 - Test Accuracy: 0.8163\n",
      "Test Loss: 64.3841 - Test Accuracy: 0.8151\n",
      "Test Loss: 65.0158 - Test Accuracy: 0.8149\n",
      "Test Loss: 65.8981 - Test Accuracy: 0.8147\n",
      "Test Loss: 66.2030 - Test Accuracy: 0.8156\n",
      "Test Loss: 66.5188 - Test Accuracy: 0.8165\n",
      "Test Loss: 66.7375 - Test Accuracy: 0.8173\n",
      "Test Loss: 67.8587 - Test Accuracy: 0.8152\n",
      "Test Loss: 68.0881 - Test Accuracy: 0.8160\n",
      "Test Loss: 68.1737 - Test Accuracy: 0.8178\n",
      "Test Loss: 69.0291 - Test Accuracy: 0.8176\n",
      "Test Loss: 69.0384 - Test Accuracy: 0.8194\n",
      "Test Loss: 69.2983 - Test Accuracy: 0.8202\n",
      "Test Loss: 69.4740 - Test Accuracy: 0.8210\n",
      "Test Loss: 69.6032 - Test Accuracy: 0.8226\n",
      "Test Loss: 70.2094 - Test Accuracy: 0.8224\n",
      "Test Loss: 70.3554 - Test Accuracy: 0.8231\n",
      "Test Loss: 71.1214 - Test Accuracy: 0.8229\n",
      "Test Loss: 71.4260 - Test Accuracy: 0.8227\n",
      "Test Loss: 72.4954 - Test Accuracy: 0.8216\n",
      "Test Loss: 72.8860 - Test Accuracy: 0.8223\n",
      "Test Loss: 73.6662 - Test Accuracy: 0.8221\n",
      "Test Loss: 73.7004 - Test Accuracy: 0.8237\n",
      "Test Loss: 73.7316 - Test Accuracy: 0.8252\n",
      "Test Loss: 74.8757 - Test Accuracy: 0.8241\n",
      "Test Loss: 76.0199 - Test Accuracy: 0.8239\n",
      "Test Loss: 76.4907 - Test Accuracy: 0.8246\n",
      "Test Loss: 77.4956 - Test Accuracy: 0.8244\n",
      "Test Loss: 78.0213 - Test Accuracy: 0.8250\n",
      "Test Loss: 79.1536 - Test Accuracy: 0.8248\n",
      "Test Loss: 79.3173 - Test Accuracy: 0.8254\n",
      "Test Loss: 79.8770 - Test Accuracy: 0.8260\n",
      "Test Loss: 79.8977 - Test Accuracy: 0.8274\n",
      "Test Loss: 80.0161 - Test Accuracy: 0.8288\n",
      "Test Loss: 80.5542 - Test Accuracy: 0.8294\n",
      "Test Loss: 81.8236 - Test Accuracy: 0.8283\n",
      "Test Loss: 82.0304 - Test Accuracy: 0.8289\n",
      "Test Loss: 82.2683 - Test Accuracy: 0.8295\n",
      "Test Loss: 82.5331 - Test Accuracy: 0.8300\n",
      "Test Loss: 82.6411 - Test Accuracy: 0.8305\n",
      "Test Loss: 82.6560 - Test Accuracy: 0.8318\n",
      "Test Loss: 83.8026 - Test Accuracy: 0.8316\n",
      "Test Loss: 85.3229 - Test Accuracy: 0.8306\n",
      "Test Loss: 85.8528 - Test Accuracy: 0.8304\n",
      "Test Loss: 86.5728 - Test Accuracy: 0.8301\n",
      "Test Loss: 87.2302 - Test Accuracy: 0.8292\n",
      "Test Loss: 87.7369 - Test Accuracy: 0.8297\n",
      "Test Loss: 88.3178 - Test Accuracy: 0.8295\n",
      "Test Loss: 89.4965 - Test Accuracy: 0.8279\n",
      "Test Loss: 89.5880 - Test Accuracy: 0.8291\n",
      "Test Loss: 90.6117 - Test Accuracy: 0.8275\n",
      "Test Loss: 91.6140 - Test Accuracy: 0.8270\n"
     ]
    },
    {
     "data": {
      "text/plain": [
       "(array([[0.05206173, 0.93850005, 0.00943821],\n",
       "        [0.00123778, 0.00123432, 0.9975279 ],\n",
       "        [0.01509286, 0.20752849, 0.7773786 ],\n",
       "        ...,\n",
       "        [0.0068357 , 0.00525033, 0.987914  ],\n",
       "        [0.99210876, 0.00575821, 0.002133  ],\n",
       "        [0.8583273 , 0.13579574, 0.00587694]], dtype=float32),\n",
       " array([1, 2, 2, ..., 2, 0, 0]),\n",
       " 0.8064607187345204)"
      ]
     },
     "execution_count": 23,
     "metadata": {},
     "output_type": "execute_result"
    }
   ],
   "source": [
    "(softmax_prob_RoBerta,\n",
    " predictions_RoBerta,\n",
    " accuracy_RoBerta) = inference(RoBerta_model,\n",
    "                            X_test,\n",
    "                            y_test,\n",
    "                            tokenizer=RoBertaTokenizer)\n",
    "softmax_prob_RoBerta, predictions_RoBerta, accuracy_RoBerta\n",
    "\n"
   ]
  },
  {
   "cell_type": "markdown",
   "metadata": {},
   "source": [
    "----\n",
    "# Ensemble Model\n",
    "----\n",
    "\n",
    "Ensemble methods:\n",
    "\n",
    "To ensemble your two deep learning classifiers (Bert and RoBerta models), you can average their predictions. Here's a concise guide on how to implement this in PyTorch:\n",
    "1. Load Both Models: Ensure both models are loaded and set to evaluation mode.\n",
    "2. Prepare the Data: Tokenize and prepare your data as required by both models. Since you're using different tokenizers for Bert and RoBerta, you'll need to prepare the inputs separately for each model.\n",
    "3. Get Predictions from Both Models: Pass the test data through both models to get the logits (raw model outputs before applying softmax).\n",
    "4. Average the Logits: Average the logits obtained from both models. This simple method of ensembling is often quite effective.\n",
    "5. Apply Softmax and Determine Final Predictions: Apply softmax to the averaged logits to get probabilities, and then determine the final predictions (e.g., by taking the argmax).\n",
    "Here's how you could implement this:\n",
    "\n",
    "\n",
    "\n",
    "This code snippet averages the predictions from both models. You can also explore other ensembling techniques like weighted averaging or voting based on validation set performance."
   ]
  },
  {
   "cell_type": "code",
   "execution_count": 9,
   "metadata": {},
   "outputs": [],
   "source": [
    "def ensemble_inference(model1, model2, X_test, y_test, tokenizers=[Bert_tokenize, RoBertaTokenizer], criterion=nn.CrossEntropyLoss()):\n",
    "    \"\"\"\n",
    "    Perform inference on the model\n",
    "\n",
    "    Return softmax probabilities, predictions, and metrics\n",
    "    \"\"\"    \n",
    "    # Assuming model_bert and model_roberta are your loaded models\n",
    "    model1.eval()\n",
    "    model2.eval()\n",
    "\n",
    "    # Prepare data for both models\n",
    "    input_ids_bert, attention_masks_bert, _ = tokenizers[0](X_test, y_test)\n",
    "    input_ids_roberta, attention_masks_roberta, _ = tokenizers[1](X_test, y_test)\n",
    "\n",
    "    # Convert to appropriate device\n",
    "    input_ids_bert, attention_masks_bert = input_ids_bert.to(device), attention_masks_bert.to(device)\n",
    "    input_ids_roberta, attention_masks_roberta = input_ids_roberta.to(device), attention_masks_roberta.to(device)\n",
    "\n",
    "    # Get logits from both models\n",
    "    with torch.no_grad():\n",
    "        logits_model1 = model1(input_ids=input_ids_bert, attention_mask=attention_masks_bert)\n",
    "  \n",
    "        logits_model2 = model2(input_ids=input_ids_roberta, attention_mask=attention_masks_roberta)\n",
    "\n",
    "        # Average the logits\n",
    "        averaged_logits = (logits_model1 + logits_model2) / 2\n",
    "\n",
    "        # Apply softmax to get probabilities\n",
    "        probabilities = torch.nn.functional.softmax(averaged_logits, dim=1)\n",
    "\n",
    "        # Get the predicted classes\n",
    "        _, predicted_classes = torch.max(probabilities, 1)\n",
    "\n",
    "        # Calculate accuracy\n",
    "        acc = torch.sum(predicted_classes == torch.tensor(y_test['Sentiment'])) / len(y_test)\n",
    "\n",
    "        return probabilities.cpu().numpy(), predicted_classes.cpu().numpy(), acc.item()\n",
    "\n",
    "        "
   ]
  },
  {
   "cell_type": "code",
   "execution_count": 10,
   "metadata": {},
   "outputs": [
    {
     "data": {
      "text/plain": [
       "(array([[0.14485256, 0.7910762 , 0.06407132],\n",
       "        [0.0308138 , 0.04160151, 0.92758477],\n",
       "        [0.07597816, 0.35849625, 0.56552565],\n",
       "        ...,\n",
       "        [0.06800987, 0.07859176, 0.8533984 ],\n",
       "        [0.8673193 , 0.09128197, 0.04139874],\n",
       "        [0.6086164 , 0.33969036, 0.05169322]], dtype=float32),\n",
       " array([1, 2, 2, ..., 2, 0, 0]),\n",
       " 0.8192686438560486)"
      ]
     },
     "execution_count": 10,
     "metadata": {},
     "output_type": "execute_result"
    }
   ],
   "source": [
    "# Ensemble Inference\n",
    "(softmax_prob_ensemble,\n",
    " predictions_ensemble,\n",
    " accuracy_ensemble) = ensemble_inference(Bert_model,\n",
    "                                        RoBerta_model,\n",
    "                                        X_test,\n",
    "                                        y_test,\n",
    "                                        tokenizers=[Bert_tokenize, RoBertaTokenizer])\n",
    "\n",
    "\n",
    "(softmax_prob_ensemble,\n",
    " predictions_ensemble,\n",
    " accuracy_ensemble) "
   ]
  },
  {
   "cell_type": "code",
   "execution_count": 11,
   "metadata": {},
   "outputs": [
    {
     "data": {
      "text/plain": [
       "(1422, 1)"
      ]
     },
     "execution_count": 11,
     "metadata": {},
     "output_type": "execute_result"
    }
   ],
   "source": [
    "y_test.shape"
   ]
  },
  {
   "cell_type": "code",
   "execution_count": 14,
   "metadata": {},
   "outputs": [],
   "source": [
    "# Compute evaluation metrics\n",
    "def eval_metrics(predictions, y_test):\n",
    "    accuracy = accuracy_score(y_test, predictions)\n",
    "    precision = precision_score(y_test, predictions, average='weighted')\n",
    "    recall = recall_score(y_test, predictions, average='weighted')\n",
    "    f1 = f1_score(y_test, predictions, average='weighted')\n",
    "\n",
    "    # Generate confusion matrix\n",
    "    conf_matrix = confusion_matrix(y_test, predictions)\n",
    "    return accuracy, precision, recall, f1, conf_matrix"
   ]
  },
  {
   "cell_type": "code",
   "execution_count": 15,
   "metadata": {},
   "outputs": [],
   "source": [
    "accuracy, precision, recall, f1, conf_matrix = eval_metrics(predictions_ensemble, y_test['Sentiment'])"
   ]
  },
  {
   "cell_type": "code",
   "execution_count": 16,
   "metadata": {},
   "outputs": [
    {
     "name": "stdout",
     "output_type": "stream",
     "text": [
      "Accuracy:   0.8193\n",
      "Precision:  0.8184\n",
      "Recall:     0.8193\n",
      "F1 Score:   0.8180\n",
      "Confusion Matrix: \n",
      "[[360  82  24]\n",
      " [ 68 392  49]\n",
      " [  7  27 413]]\n"
     ]
    }
   ],
   "source": [
    "print(f'Accuracy:   {accuracy:.4f}')\n",
    "print(f'Precision:  {precision:.4f}')\n",
    "print(f'Recall:     {recall:.4f}')\n",
    "print(f'F1 Score:   {f1:.4f}')\n",
    "print(f'Confusion Matrix: \\n{conf_matrix}')"
   ]
  },
  {
   "cell_type": "code",
   "execution_count": 17,
   "metadata": {},
   "outputs": [
    {
     "name": "stdout",
     "output_type": "stream",
     "text": [
      "Classification Report:\n",
      "              precision    recall  f1-score   support\n",
      "\n",
      "           0       0.83      0.77      0.80       466\n",
      "           1       0.78      0.77      0.78       509\n",
      "           2       0.85      0.92      0.89       447\n",
      "\n",
      "    accuracy                           0.82      1422\n",
      "   macro avg       0.82      0.82      0.82      1422\n",
      "weighted avg       0.82      0.82      0.82      1422\n",
      "\n"
     ]
    },
    {
     "data": {
      "image/png": "[encoded data removed]",
      "text/plain": [
       "<Figure size 800x600 with 1 Axes>"
      ]
     },
     "metadata": {},
     "output_type": "display_data"
    }
   ],
   "source": [
    "# Print classification report\n",
    "print(\"Classification Report:\")\n",
    "print(classification_report(y_test, predictions_ensemble))\n",
    "\n",
    "# Plot confusion matrix with blue colors\n",
    "plt.figure(figsize=(8, 6))\n",
    "sns.set(font_scale=1.2)\n",
    "sns.heatmap(conf_matrix, annot=True, fmt=\"d\", cmap=\"Blues\", cbar=False)\n",
    "plt.title(\"Confusion Matrix\")\n",
    "plt.xlabel(\"Predicted Labels\")\n",
    "plt.ylabel(\"True Labels\")\n",
    "plt.show()"
   ]
  },
  {
   "cell_type": "code",
   "execution_count": null,
   "metadata": {},
   "outputs": [],
   "source": []
  },
  {
   "cell_type": "code",
   "execution_count": null,
   "metadata": {},
   "outputs": [],
   "source": []
  },
  {
   "cell_type": "code",
   "execution_count": null,
   "metadata": {},
   "outputs": [],
   "source": []
  },
  {
   "cell_type": "code",
   "execution_count": 24,
   "metadata": {},
   "outputs": [],
   "source": [
    "# # evaluate on test data\n",
    "# Bert_model.eval()\n",
    "# criterion = nn.CrossEntropyLoss()\n",
    "# input_ids_test, attention_masks_test, y_test = Bert_tokenize(X_test, y_test)\n",
    "# test_dataset = TensorDataset(input_ids_test, attention_masks_test, y_test)\n",
    "# test_dataloader = DataLoader(test_dataset, batch_size=BATCH_SIZE)\n",
    "\n",
    "# total_test_loss = 0\n",
    "# correct_test = 0\n",
    "# total_test = 0\n",
    "\n",
    "# with torch.no_grad():\n",
    "#     for batch in test_dataloader:\n",
    "#         input_ids, attention_mask, labels = batch\n",
    "#         input_ids, attention_mask, labels = input_ids.to(device), attention_mask.to(device), labels.to(device)\n",
    "#         labels = labels.reshape(-1)  # Reshape labels once\n",
    "\n",
    "#         outputs = Bert_model(input_ids=input_ids, attention_mask=attention_mask)\n",
    "#         logits = outputs\n",
    "#         loss = criterion(logits, labels)\n",
    "#         total_test_loss += loss.item()\n",
    "\n",
    "#         _, predicted = torch.max(logits, 1)\n",
    "#         correct_test += (predicted == labels).sum().item() \n",
    "#         total_test += labels.size(0)\n",
    "#         accuracy_test = correct_test / total_test\n",
    "#         print(f'Test Loss: {total_test_loss:.4f} - Test Accuracy: {accuracy_test:.4f}')\n"
   ]
  },
  {
   "cell_type": "code",
   "execution_count": 25,
   "metadata": {},
   "outputs": [
    {
     "name": "stdout",
     "output_type": "stream",
     "text": [
      "Test Loss: 1.1097 - Test Accuracy: 0.3333\n"
     ]
    }
   ],
   "source": [
    "\n",
    "# Evaluate on test data\n",
    "RoBerta_model.eval()\n",
    "criterion = nn.CrossEntropyLoss()\n",
    "input_ids_test, attention_masks_test, y_test = RoBertaTokenizer(X_test, y_test)\n",
    "test_dataset = TensorDataset(input_ids_test, attention_masks_test, y_test)\n",
    "test_dataloader = DataLoader(test_dataset, batch_size=BATCH_SIZE)\n",
    "\n",
    "total_test_loss = 0\n",
    "correct_test = 0\n",
    "total_test = 0\n",
    "\n",
    "with torch.no_grad():\n",
    "    for batch in test_dataloader:\n",
    "        input_ids, attention_mask, labels = batch\n",
    "        input_ids, attention_mask, labels = input_ids.to(device), attention_mask.to(device), labels.to(device)\n",
    "        labels = labels.reshape(-1)  # Reshape labels once\n",
    "\n",
    "        outputs = RoBerta_model(input_ids=input_ids, attention_mask=attention_mask)\n",
    "        logits = outputs\n",
    "        loss = criterion(logits, labels)\n",
    "        total_test_loss += loss.item()\n",
    "\n",
    "        _, predicted = torch.max(logits, 1)\n",
    "        correct_test += (predicted == labels).sum().item() \n",
    "        total_test += labels.size(0)\n",
    "        accuracy_test = correct_test / total_test\n",
    "        print(f'Test Loss: {total_test_loss:.4f} - Test Accuracy: {accuracy_test:.4f}')\n",
    "        "
   ]
  },
  {
   "cell_type": "code",
   "execution_count": 26,
   "metadata": {},
   "outputs": [
    {
     "ename": "NameError",
     "evalue": "name 'model_bert' is not defined",
     "output_type": "error",
     "traceback": [
      "\u001b[0;31m---------------------------------------------------------------------------\u001b[0m",
      "\u001b[0;31mNameError\u001b[0m                                 Traceback (most recent call last)",
      "Cell \u001b[0;32mIn[26], line 2\u001b[0m\n\u001b[1;32m      1\u001b[0m \u001b[38;5;66;03m# Assuming model_bert and model_roberta are your loaded models\u001b[39;00m\n\u001b[0;32m----> 2\u001b[0m \u001b[43mmodel_bert\u001b[49m\u001b[38;5;241m.\u001b[39meval()\n\u001b[1;32m      3\u001b[0m model_roberta\u001b[38;5;241m.\u001b[39meval()\n\u001b[1;32m      5\u001b[0m \u001b[38;5;66;03m# Prepare data for both models\u001b[39;00m\n",
      "\u001b[0;31mNameError\u001b[0m: name 'model_bert' is not defined"
     ]
    }
   ],
   "source": [
    "# Assuming model_bert and model_roberta are your loaded models\n",
    "model_bert.eval()\n",
    "model_roberta.eval()\n",
    "\n",
    "# Prepare data for both models\n",
    "input_ids_bert, attention_masks_bert, _ = Bert_tokenize(X_test, y_test)\n",
    "input_ids_roberta, attention_masks_roberta, _ = RoBertaTokenizer(X_test, y_test)\n",
    "\n",
    "# Convert to appropriate device\n",
    "input_ids_bert, attention_masks_bert = input_ids_bert.to(device), attention_masks_bert.to(device)\n",
    "input_ids_roberta, attention_masks_roberta = input_ids_roberta.to(device), attention_masks_roberta.to(device)\n",
    "\n",
    "# Get logits from both models\n",
    "with torch.no_grad():\n",
    "    outputs_bert = model_bert(input_ids=input_ids_bert, attention_mask=attention_masks_bert)\n",
    "    logits_bert = outputs_bert.logits  # Adjust depending on your model's output\n",
    "\n",
    "    outputs_roberta = model_roberta(input_ids=input_ids_roberta, attention_mask=attention_masks_roberta)\n",
    "    logits_roberta = outputs_roberta.logits  # Adjust depending on your model's output\n",
    "\n",
    "    # Average the logits\n",
    "    averaged_logits = (logits_bert + logits_roberta) / 2\n",
    "\n",
    "    # Apply softmax to get probabilities\n",
    "    probabilities = torch.nn.functional.softmax(averaged_logits, dim=1)\n",
    "\n",
    "    # Get the predicted classes\n",
    "    _, predicted_classes = torch.max(probabilities, 1)\n",
    "\n",
    "# Evaluate the predictions as needed"
   ]
  },
  {
   "cell_type": "code",
   "execution_count": null,
   "metadata": {},
   "outputs": [],
   "source": []
  }
 ],
 "metadata": {
  "kernelspec": {
   "display_name": "Python 3",
   "language": "python",
   "name": "python3"
  },
  "language_info": {
   "codemirror_mode": {
    "name": "ipython",
    "version": 3
   },
   "file_extension": ".py",
   "mimetype": "text/x-python",
   "name": "python",
   "nbconvert_exporter": "python",
   "pygments_lexer": "ipython3",
   "version": "3.12.0"
  }
 },
 "nbformat": 4,
 "nbformat_minor": 2
}
