{
 "cells": [
  {
   "cell_type": "markdown",
   "metadata": {},
   "source": [
    "# Bert Model\n",
    "\n",
    "\n",
    "-----\n",
    "```\n",
    ": Zach Wolpe\n",
    ": zachcolinwolpe@gmail.com\n",
    "```\n",
    "-----"
   ]
  },
  {
   "cell_type": "code",
   "execution_count": 84,
   "metadata": {},
   "outputs": [
    {
     "name": "stderr",
     "output_type": "stream",
     "text": [
      "[nltk_data] Downloading package stopwords to\n",
      "[nltk_data]     /Users/zachwolpe/nltk_data...\n",
      "[nltk_data]   Package stopwords is already up-to-date!\n"
     ]
    }
   ],
   "source": [
    "# importing neccessary libraries \n",
    "from sklearn.model_selection import train_test_split\n",
    "from transformers import BertTokenizer, BertForSequenceClassification, BertPreTrainedModel, BertModel,AdamW\n",
    "from sklearn.metrics import classification_report, confusion_matrix, accuracy_score, f1_score, precision_score, recall_score\n",
    "from torch.utils.data import TensorDataset, DataLoader\n",
    "import matplotlib.pyplot as plt\n",
    "from wordcloud import WordCloud\n",
    "import seaborn as sns\n",
    "import pandas as pd \n",
    "import numpy as np\n",
    "import torch\n",
    "import nltk\n",
    "nltk.download('stopwords')\n",
    "\n",
    "from sklearn.feature_extraction.text import TfidfVectorizer\n",
    "from imblearn.under_sampling import RandomUnderSampler\n",
    "from imblearn.over_sampling import SMOTE\n",
    "from imblearn.pipeline import Pipeline\n",
    "from collections import Counter\n",
    "import sklearn\n",
    "\n",
    "\n",
    "from nltk.corpus import stopwords\n",
    "import argparse\n",
    "import logging\n",
    "import string\n",
    "import re\n",
    "import os\n",
    "\n",
    "from sklearn.model_selection import train_test_split, KFold\n",
    "import torch.optim as optim\n",
    "from transformers import BertForSequenceClassification, BertTokenizer\n",
    "from torch.utils.data import TensorDataset, DataLoader\n",
    "from sklearn.metrics import accuracy_score, precision_score, recall_score, f1_score, confusion_matrix\n",
    "import torch\n",
    "import numpy as np\n",
    "import matplotlib.pyplot as plt\n",
    "import torch.nn as nn\n",
    "from transformers import BertModel\n",
    "import os\n"
   ]
  },
  {
   "cell_type": "code",
   "execution_count": 100,
   "metadata": {},
   "outputs": [],
   "source": [
    "# Config ---------------------------------------->>\n",
    "PATH_TO_DATA = './data/train_test/'\n",
    "BATCH_SIZE = 10\n",
    "device = torch.device(\"cuda\" if torch.cuda.is_available() else \"cpu\")\n",
    "# Config ---------------------------------------->>"
   ]
  },
  {
   "cell_type": "code",
   "execution_count": 147,
   "metadata": {},
   "outputs": [],
   "source": [
    "X_train = pd.read_csv(PATH_TO_DATA + 'X_train.csv')\n",
    "y_train = pd.read_csv(PATH_TO_DATA + 'y_train.csv')\n",
    "X_test = pd.read_csv(PATH_TO_DATA + 'X_test.csv')\n",
    "y_test = pd.read_csv(PATH_TO_DATA + 'y_test.csv')\n"
   ]
  },
  {
   "cell_type": "code",
   "execution_count": 102,
   "metadata": {},
   "outputs": [],
   "source": []
  },
  {
   "cell_type": "markdown",
   "metadata": {},
   "source": [
    "# K-Fold Validation"
   ]
  },
  {
   "cell_type": "code",
   "execution_count": 103,
   "metadata": {},
   "outputs": [],
   "source": [
    "# def generate_K_Fold_data(X_train, y_train, num_splits=10):\n",
    "#     kf = KFold(n_splits=num_splits, shuffle=True, random_state=42)\n",
    "#     for fold, (train_index, val_index) in enumerate(kf.split(X_train)):\n",
    "#         logging.info(f\"Fold {fold+1}/{num_splits}\")\n",
    "#         X_train_fold, X_val_fold = X_train.iloc[train_index], X_train.iloc[val_index]\n",
    "#         y_train_fold, y_val_fold = y_train.iloc[train_index], y_train.iloc[val_index]\n",
    "#         yield X_train_fold, y_train_fold, X_val_fold, y_val_fold, train_index, val_index\n"
   ]
  },
  {
   "cell_type": "code",
   "execution_count": 104,
   "metadata": {},
   "outputs": [],
   "source": [
    "gkfd = generate_K_Fold_data(X_train, y_train, num_splits=10)\n",
    "X_train_fold, y_train_fold, X_val_fold, y_val_fold, train_index, val_index = next(gkfd)"
   ]
  },
  {
   "cell_type": "markdown",
   "metadata": {},
   "source": [
    "# Tokenize & Tensorize"
   ]
  },
  {
   "cell_type": "code",
   "execution_count": 114,
   "metadata": {},
   "outputs": [],
   "source": [
    "# def Bert_tokenize(X, y):\n",
    "#     \"\"\"\n",
    "#         : Tokenize the input data using the BERT tokenizer.\n",
    "#         : Transform to torch.tensors\n",
    "#         : Return the tokenized inputs, attention masks, and y values\n",
    "#     \"\"\"\n",
    "#     # Tokenize the \"Review Text\" column\n",
    "#     tokenizer = BertTokenizer.from_pretrained('bert-base-uncased')\n",
    "#     tokenized_inputs = tokenizer(X['Review Text'].tolist(), padding=True, truncation=True, return_tensors='pt', max_length=512)\n",
    "#     input_ids = tokenized_inputs.input_ids\n",
    "#     attention_masks = tokenized_inputs.attention_mask\n",
    "#     y = torch.tensor(y['Sentiment'].tolist())\n",
    "#     return input_ids, attention_masks, y"
   ]
  },
  {
   "cell_type": "code",
   "execution_count": 115,
   "metadata": {},
   "outputs": [],
   "source": [
    "input_ids_train, attention_masks_train, y_train = Bert_tokenize(X_train_fold, y_train_fold)\n",
    "input_ids_val, attention_masks_val, y_val = Bert_tokenize(X_val_fold, y_val_fold)\n"
   ]
  },
  {
   "cell_type": "markdown",
   "metadata": {},
   "source": [
    "# Torch Tensors"
   ]
  },
  {
   "cell_type": "code",
   "execution_count": 117,
   "metadata": {},
   "outputs": [],
   "source": [
    "# # Create PyTorch datasets and data loaders for this fold\n",
    "# if torch.cuda.is_available():\n",
    "#     train_dataset = TensorDataset(input_ids_train.cuda(), attention_masks_train.cuda(), torch.tensor(y_train_fold.values).cuda())\n",
    "#     val_dataset = TensorDataset(input_ids_val.cuda(), attention_masks_val.cuda(), torch.tensor(y_val_fold.values).cuda())\n",
    "#     train_dataloader = DataLoader(train_dataset, batch_size=BATCH_SIZE, shuffle=True)\n",
    "#     val_dataloader = DataLoader(val_dataset, batch_size=BATCH_SIZE)\n",
    "# else:\n",
    "#     train_dataset = TensorDataset(input_ids_train, attention_masks_train, torch.tensor(y_train_fold.values))\n",
    "#     val_dataset = TensorDataset(input_ids_val, attention_masks_val, torch.tensor(y_val_fold.values))\n",
    "#     train_dataloader = DataLoader(train_dataset, batch_size=BATCH_SIZE, shuffle=True)\n",
    "#     val_dataloader = DataLoader(val_dataset, batch_size=BATCH_SIZE)"
   ]
  },
  {
   "cell_type": "markdown",
   "metadata": {},
   "source": [
    "----\n",
    "# Bert Model\n",
    "----"
   ]
  },
  {
   "cell_type": "code",
   "execution_count": 123,
   "metadata": {},
   "outputs": [],
   "source": [
    "# # Define the model with activation function and regularization\n",
    "# class BertWithActivationAndRegularization(nn.Module):\n",
    "#     def __init__(self, pretrained_model_name, num_labels, dropout_prob=0.5, weight_decay=0.01):\n",
    "#         super(BertWithActivationAndRegularization, self).__init__()\n",
    "#         self.bert = BertModel.from_pretrained(pretrained_model_name)\n",
    "#         self.dropout = nn.Dropout(dropout_prob)\n",
    "#         self.classifier = nn.Linear(self.bert.config.hidden_size, num_labels)\n",
    "#         self.activation = nn.GELU()\n",
    "#         self.weight_decay = weight_decay\n",
    "        \n",
    "#     def forward(self, input_ids, attention_mask):\n",
    "#         outputs = self.bert(input_ids=input_ids, attention_mask=attention_mask)\n",
    "#         pooled_output = outputs.pooler_output\n",
    "#         pooled_output = self.dropout(pooled_output)\n",
    "#         logits = self.classifier(pooled_output)\n",
    "#         logits = self.activation(logits)  # Applying GELU activation function\n",
    "#         return logits"
   ]
  },
  {
   "cell_type": "code",
   "execution_count": 124,
   "metadata": {},
   "outputs": [
    {
     "data": {
      "text/plain": [
       "BertWithActivationAndRegularization(\n",
       "  (bert): BertModel(\n",
       "    (embeddings): BertEmbeddings(\n",
       "      (word_embeddings): Embedding(30522, 768, padding_idx=0)\n",
       "      (position_embeddings): Embedding(512, 768)\n",
       "      (token_type_embeddings): Embedding(2, 768)\n",
       "      (LayerNorm): LayerNorm((768,), eps=1e-12, elementwise_affine=True)\n",
       "      (dropout): Dropout(p=0.1, inplace=False)\n",
       "    )\n",
       "    (encoder): BertEncoder(\n",
       "      (layer): ModuleList(\n",
       "        (0-11): 12 x BertLayer(\n",
       "          (attention): BertAttention(\n",
       "            (self): BertSdpaSelfAttention(\n",
       "              (query): Linear(in_features=768, out_features=768, bias=True)\n",
       "              (key): Linear(in_features=768, out_features=768, bias=True)\n",
       "              (value): Linear(in_features=768, out_features=768, bias=True)\n",
       "              (dropout): Dropout(p=0.1, inplace=False)\n",
       "            )\n",
       "            (output): BertSelfOutput(\n",
       "              (dense): Linear(in_features=768, out_features=768, bias=True)\n",
       "              (LayerNorm): LayerNorm((768,), eps=1e-12, elementwise_affine=True)\n",
       "              (dropout): Dropout(p=0.1, inplace=False)\n",
       "            )\n",
       "          )\n",
       "          (intermediate): BertIntermediate(\n",
       "            (dense): Linear(in_features=768, out_features=3072, bias=True)\n",
       "            (intermediate_act_fn): GELUActivation()\n",
       "          )\n",
       "          (output): BertOutput(\n",
       "            (dense): Linear(in_features=3072, out_features=768, bias=True)\n",
       "            (LayerNorm): LayerNorm((768,), eps=1e-12, elementwise_affine=True)\n",
       "            (dropout): Dropout(p=0.1, inplace=False)\n",
       "          )\n",
       "        )\n",
       "      )\n",
       "    )\n",
       "    (pooler): BertPooler(\n",
       "      (dense): Linear(in_features=768, out_features=768, bias=True)\n",
       "      (activation): Tanh()\n",
       "    )\n",
       "  )\n",
       "  (dropout): Dropout(p=0.5, inplace=False)\n",
       "  (classifier): Linear(in_features=768, out_features=3, bias=True)\n",
       "  (activation): GELU(approximate='none')\n",
       ")"
      ]
     },
     "execution_count": 124,
     "metadata": {},
     "output_type": "execute_result"
    }
   ],
   "source": [
    "# Specify the pretrained BERT model name\n",
    "model_name = 'bert-base-uncased'\n",
    "\n",
    "# Create an instance of the model\n",
    "model = BertWithActivationAndRegularization(pretrained_model_name='bert-base-uncased', num_labels=3)\n",
    "\n",
    "# Move the model to GPU if available\n",
    "device = torch.device(\"cuda\" if torch.cuda.is_available() else \"cpu\")\n",
    "model.to(device)"
   ]
  },
  {
   "cell_type": "code",
   "execution_count": 125,
   "metadata": {},
   "outputs": [],
   "source": [
    "# Define lists to store metrics for each fold\n",
    "train_losses_per_fold = []\n",
    "valid_losses_per_fold = []\n",
    "accuracies_per_fold = []"
   ]
  },
  {
   "cell_type": "code",
   "execution_count": 126,
   "metadata": {},
   "outputs": [],
   "source": [
    "import torch.optim as optim\n",
    "\n",
    "# Define the optimizer and criterion\n",
    "learning_rate = 2e-06\n",
    "weight_decay = 0.0001  \n",
    "optimizer = optim.AdamW(model.parameters(), lr=learning_rate, weight_decay=weight_decay)\n",
    "criterion = nn.CrossEntropyLoss()"
   ]
  },
  {
   "cell_type": "code",
   "execution_count": 139,
   "metadata": {},
   "outputs": [
    {
     "name": "stdout",
     "output_type": "stream",
     "text": [
      "Epoch 1/6 - Training Loss: 0.9435 - Validation Loss: 1.1909 - Training Accuracy: 0.6111 - Validation Accuracy: 0.3500\n",
      "Epoch 2/6 - Training Loss: 0.9100 - Validation Loss: 1.2253 - Training Accuracy: 0.6139 - Validation Accuracy: 0.2250\n",
      "Epoch 3/6 - Training Loss: 0.8879 - Validation Loss: 1.2085 - Training Accuracy: 0.6361 - Validation Accuracy: 0.2750\n",
      "Epoch 4/6 - Training Loss: 0.8417 - Validation Loss: 1.2206 - Training Accuracy: 0.6917 - Validation Accuracy: 0.3000\n",
      "Epoch 5/6 - Training Loss: 0.8025 - Validation Loss: 1.2426 - Training Accuracy: 0.7056 - Validation Accuracy: 0.3000\n",
      "Epoch 6/6 - Training Loss: 0.7819 - Validation Loss: 1.2226 - Training Accuracy: 0.7333 - Validation Accuracy: 0.4000\n"
     ]
    }
   ],
   "source": [
    "# Lists to store losses for this fold\n",
    "train_losses_fold = []\n",
    "valid_losses_fold = []\n",
    "accuracies_fold = []\n",
    "\n",
    "# Training loop\n",
    "epochs = 6\n",
    "for epoch in range(epochs):\n",
    "    model.train()\n",
    "    total_train_loss = 0\n",
    "    correct_train = 0\n",
    "    total_train = 0\n",
    "\n",
    "    for batch in train_dataloader:\n",
    "        input_ids, attention_mask, labels = batch\n",
    "        input_ids, attention_mask, labels = input_ids.to(device), attention_mask.to(device), labels.to(device)\n",
    "        labels = labels.reshape(-1)  # Reshape labels once\n",
    "\n",
    "        optimizer.zero_grad()\n",
    "        outputs = model(input_ids=input_ids, attention_mask=attention_mask)\n",
    "        logits = outputs\n",
    "        loss = criterion(logits, labels)\n",
    "        total_train_loss += loss.item()\n",
    "\n",
    "        _, predicted = torch.max(logits, 1)\n",
    "        correct_train += (predicted == labels).sum().item()\n",
    "        total_train += labels.size(0)\n",
    "\n",
    "        loss.backward()\n",
    "        optimizer.step()\n",
    "\n",
    "    average_train_loss = total_train_loss / len(train_dataloader)\n",
    "    train_losses_fold.append(average_train_loss)\n",
    "\n",
    "    # Validation loop\n",
    "    model.eval()\n",
    "    total_valid_loss = 0\n",
    "    correct_valid = 0\n",
    "    total_valid = 0\n",
    "\n",
    "    with torch.no_grad():\n",
    "        for batch in val_dataloader:\n",
    "            input_ids, attention_mask, labels = batch\n",
    "            input_ids, attention_mask, labels = input_ids.to(device), attention_mask.to(device), labels.to(device)\n",
    "            labels = labels.reshape(-1)  # Reshape labels once\n",
    "\n",
    "            outputs = model(input_ids=input_ids, attention_mask=attention_mask)\n",
    "            logits = outputs\n",
    "            loss = criterion(logits, labels)\n",
    "            total_valid_loss += loss.item()\n",
    "            \n",
    "            _, predicted = torch.max(logits, 1)\n",
    "            correct_valid += (predicted == labels).sum().item() \n",
    "            total_valid += labels.size(0)\n",
    "\n",
    "    average_valid_loss = total_valid_loss / len(val_dataloader)\n",
    "    valid_losses_fold.append(average_valid_loss)\n",
    "\n",
    "    accuracy_train = correct_train / total_train\n",
    "    accuracy_valid = correct_valid / total_valid\n",
    "    accuracies_fold.append((accuracy_train, accuracy_valid))\n",
    "\n",
    "    print(f'Epoch {epoch+1}/{epochs} - Training Loss: {average_train_loss:.4f} - Validation Loss: {average_valid_loss:.4f} - Training Accuracy: {accuracy_train:.4f} - Validation Accuracy: {accuracy_valid:.4f}')\n",
    "\n",
    "# Save metrics for this fold\n",
    "train_losses_per_fold.append(train_losses_fold)\n",
    "valid_losses_per_fold.append(valid_losses_fold)\n",
    "accuracies_per_fold.append(accuracies_fold)"
   ]
  },
  {
   "cell_type": "code",
   "execution_count": 140,
   "metadata": {},
   "outputs": [
    {
     "data": {
      "image/png": "[encoded data removed]",
      "text/plain": [
       "<Figure size 400x200 with 1 Axes>"
      ]
     },
     "metadata": {},
     "output_type": "display_data"
    }
   ],
   "source": [
    "# Plotting training and validation losses for all folds\n",
    "num_epochs = len(train_losses_fold)\n",
    "plt.figure(figsize=(4, 2))\n",
    "plt.plot(range(1, num_epochs + 1), train_losses_fold, label='Training Loss')\n",
    "plt.plot(range(1, num_epochs + 1), valid_losses_fold, label='Validation Loss')\n",
    "plt.xlabel('Epochs')\n",
    "plt.ylabel('Loss')\n",
    "plt.title('Training and Validation Loss over Epochs for all Folds')\n",
    "plt.legend()\n",
    "plt.grid(True)\n",
    "plt.show()"
   ]
  },
  {
   "cell_type": "markdown",
   "metadata": {},
   "source": [
    "----\n",
    "### Save + Load Model\n",
    "----"
   ]
  },
  {
   "cell_type": "code",
   "execution_count": 150,
   "metadata": {},
   "outputs": [],
   "source": [
    "# Save Bert Model\n",
    "SAVE_LOC = './model-artifacts/'\n",
    "torch.save(model.state_dict(), f'{SAVE_LOC}bert_model.pth')\n"
   ]
  },
  {
   "cell_type": "code",
   "execution_count": 151,
   "metadata": {},
   "outputs": [
    {
     "data": {
      "text/plain": [
       "<All keys matched successfully>"
      ]
     },
     "execution_count": 151,
     "metadata": {},
     "output_type": "execute_result"
    }
   ],
   "source": [
    "# laod data\n",
    "X_test = pd.read_csv(PATH_TO_DATA + 'X_test.csv')\n",
    "y_test = pd.read_csv(PATH_TO_DATA + 'y_test.csv')\n",
    "\n",
    "\n",
    "# load the model\n",
    "model = BertWithActivationAndRegularization(pretrained_model_name='bert-base-uncased', num_labels=3)\n",
    "model.load_state_dict(torch.load(f'{SAVE_LOC}bert_model.pth'))"
   ]
  },
  {
   "cell_type": "code",
   "execution_count": 152,
   "metadata": {},
   "outputs": [
    {
     "name": "stdout",
     "output_type": "stream",
     "text": [
      "Test Loss: 1.0323 - Test Accuracy: 0.4000\n",
      "Test Loss: 1.9925 - Test Accuracy: 0.4500\n",
      "Test Loss: 3.0078 - Test Accuracy: 0.4667\n",
      "Test Loss: 3.8005 - Test Accuracy: 0.5500\n",
      "Test Loss: 4.8367 - Test Accuracy: 0.5200\n",
      "Test Loss: 5.8150 - Test Accuracy: 0.5167\n",
      "Test Loss: 7.1054 - Test Accuracy: 0.4714\n",
      "Test Loss: 7.9993 - Test Accuracy: 0.4875\n",
      "Test Loss: 8.9436 - Test Accuracy: 0.5000\n",
      "Test Loss: 10.0724 - Test Accuracy: 0.4800\n",
      "Test Loss: 10.9550 - Test Accuracy: 0.4851\n"
     ]
    }
   ],
   "source": [
    "# evaluate on test data\n",
    "model.eval()\n",
    "input_ids_test, attention_masks_test, y_test = Bert_tokenize(X_test, y_test)\n",
    "test_dataset = TensorDataset(input_ids_test, attention_masks_test, y_test)\n",
    "test_dataloader = DataLoader(test_dataset, batch_size=BATCH_SIZE)\n",
    "\n",
    "total_test_loss = 0\n",
    "correct_test = 0\n",
    "total_test = 0\n",
    "\n",
    "with torch.no_grad():\n",
    "    for batch in test_dataloader:\n",
    "        input_ids, attention_mask, labels = batch\n",
    "        input_ids, attention_mask, labels = input_ids.to(device), attention_mask.to(device), labels.to(device)\n",
    "        labels = labels.reshape(-1)  # Reshape labels once\n",
    "\n",
    "        outputs = model(input_ids=input_ids, attention_mask=attention_mask)\n",
    "        logits = outputs\n",
    "        loss = criterion(logits, labels)\n",
    "        total_test_loss += loss.item()\n",
    "\n",
    "        _, predicted = torch.max(logits, 1)\n",
    "        correct_test += (predicted == labels).sum().item() \n",
    "        total_test += labels.size(0)\n",
    "        accuracy_test = correct_test / total_test\n",
    "        print(f'Test Loss: {total_test_loss:.4f} - Test Accuracy: {accuracy_test:.4f}')\n"
   ]
  },
  {
   "cell_type": "markdown",
   "metadata": {},
   "source": [
    "----\n",
    "# RoBERTaModel\n",
    "----"
   ]
  },
  {
   "cell_type": "code",
   "execution_count": 159,
   "metadata": {},
   "outputs": [],
   "source": [
    "X_train = pd.read_csv(PATH_TO_DATA + 'X_train.csv')\n",
    "y_train = pd.read_csv(PATH_TO_DATA + 'y_train.csv')\n",
    "X_test = pd.read_csv(PATH_TO_DATA + 'X_test.csv')\n",
    "y_test = pd.read_csv(PATH_TO_DATA + 'y_test.csv')"
   ]
  },
  {
   "cell_type": "code",
   "execution_count": 160,
   "metadata": {},
   "outputs": [],
   "source": [
    "# from transformers import RobertaTokenizer, RobertaForSequenceClassification\n",
    "# import torch.nn.functional as F\n",
    "# from torch.utils.data import TensorDataset, DataLoader\n",
    "# from sklearn.metrics import accuracy_score, precision_score, recall_score, f1_score, confusion_matrix\n",
    "# import torch\n",
    "# import numpy as np\n",
    "# import matplotlib.pyplot as plt\n",
    "# import torch.nn as nn\n",
    "# from sklearn.model_selection import train_test_split, KFold\n",
    "# import torch.optim as optim\n",
    "# from transformers import RobertaModel"
   ]
  },
  {
   "cell_type": "code",
   "execution_count": 161,
   "metadata": {},
   "outputs": [],
   "source": [
    "# # Define the model with activation function and regularization\n",
    "# class RobertaWithActivationAndRegularization(nn.Module):\n",
    "#     def __init__(self, pretrained_model_name, num_labels, dropout_prob=0.5, weight_decay=0.01):\n",
    "#         super(RobertaWithActivationAndRegularization, self).__init__()\n",
    "#         self.roberta = RobertaModel.from_pretrained(pretrained_model_name)\n",
    "#         self.dropout = nn.Dropout(dropout_prob)\n",
    "#         self.classifier = nn.Linear(self.roberta.config.hidden_size, num_labels)\n",
    "#         self.activation = nn.GELU()\n",
    "#         self.weight_decay = weight_decay\n",
    "        \n",
    "#     def forward(self, input_ids, attention_mask):\n",
    "#         outputs = self.roberta(input_ids=input_ids, attention_mask=attention_mask)\n",
    "#         pooled_output = outputs.pooler_output\n",
    "#         pooled_output = self.dropout(pooled_output)\n",
    "#         logits = self.classifier(pooled_output)\n",
    "#         logits = self.activation(logits)  # Applying GELU activation function\n",
    "#         return logits"
   ]
  },
  {
   "cell_type": "code",
   "execution_count": 165,
   "metadata": {},
   "outputs": [],
   "source": [
    "# def RoBertaTokenizer(X, y): \n",
    "#     \"\"\"\n",
    "#         : Tokenize the input data using the RoBERTa tokenizer.\n",
    "#         : Transform to torch.tensors\n",
    "#         : Return the tokenized inputs, attention masks, and y values\n",
    "#     \"\"\"\n",
    "#     # Tokenize the \"Review Text\" column\n",
    "#     tokenizer = RobertaTokenizer.from_pretrained('roberta-base')\n",
    "#     tokenized_inputs = tokenizer(X['Review Text'].tolist(), padding=True, truncation=True, return_tensors='pt', max_length=512)\n",
    "#     input_ids = tokenized_inputs.input_ids\n",
    "#     attention_masks = tokenized_inputs.attention_mask\n",
    "#     y = torch.tensor(y['Sentiment'].tolist())\n",
    "#     return input_ids, attention_masks, y\n",
    "\n",
    "    "
   ]
  },
  {
   "cell_type": "code",
   "execution_count": 166,
   "metadata": {},
   "outputs": [],
   "source": [
    "gkfd = generate_K_Fold_data(X_train, y_train, num_splits=10)\n",
    "X_train_fold, y_train_fold, X_val_fold, y_val_fold, train_index, val_index = next(gkfd)"
   ]
  },
  {
   "cell_type": "code",
   "execution_count": 167,
   "metadata": {},
   "outputs": [],
   "source": [
    "input_ids_train, attention_masks_train, y_train = RoBertaTokenizer(X_train_fold, y_train_fold)\n",
    "input_ids_val, attention_masks_val, y_val = RoBertaTokenizer(X_val_fold, y_val_fold)\n"
   ]
  },
  {
   "cell_type": "code",
   "execution_count": 168,
   "metadata": {},
   "outputs": [],
   "source": [
    "batch_size = 16\n"
   ]
  },
  {
   "cell_type": "code",
   "execution_count": 170,
   "metadata": {},
   "outputs": [],
   "source": [
    "# # Create PyTorch datasets and data loaders for this fold\n",
    "# if torch.cuda.is_available():\n",
    "#     train_dataset = TensorDataset(input_ids_train.cuda(), attention_masks_train.cuda(), torch.tensor(y_train_fold.values).cuda())\n",
    "#     val_dataset = TensorDataset(input_ids_val.cuda(), attention_masks_val.cuda(), torch.tensor(y_val_fold.values).cuda())\n",
    "#     train_dataloader = DataLoader(train_dataset, batch_size=BATCH_SIZE, shuffle=True)\n",
    "#     val_dataloader = DataLoader(val_dataset, batch_size=BATCH_SIZE)\n",
    "# else:\n",
    "#     train_dataset = TensorDataset(input_ids_train, attention_masks_train, torch.tensor(y_train_fold.values))\n",
    "#     val_dataset = TensorDataset(input_ids_val, attention_masks_val, torch.tensor(y_val_fold.values))\n",
    "#     train_dataloader = DataLoader(train_dataset, batch_size=BATCH_SIZE, shuffle=True)\n",
    "#     val_dataloader = DataLoader(val_dataset, batch_size=BATCH_SIZE)"
   ]
  },
  {
   "cell_type": "code",
   "execution_count": 171,
   "metadata": {},
   "outputs": [
    {
     "name": "stderr",
     "output_type": "stream",
     "text": [
      "Some weights of RobertaModel were not initialized from the model checkpoint at roberta-base and are newly initialized: ['roberta.pooler.dense.bias', 'roberta.pooler.dense.weight']\n",
      "You should probably TRAIN this model on a down-stream task to be able to use it for predictions and inference.\n"
     ]
    },
    {
     "data": {
      "text/plain": [
       "RobertaWithActivationAndRegularization(\n",
       "  (roberta): RobertaModel(\n",
       "    (embeddings): RobertaEmbeddings(\n",
       "      (word_embeddings): Embedding(50265, 768, padding_idx=1)\n",
       "      (position_embeddings): Embedding(514, 768, padding_idx=1)\n",
       "      (token_type_embeddings): Embedding(1, 768)\n",
       "      (LayerNorm): LayerNorm((768,), eps=1e-05, elementwise_affine=True)\n",
       "      (dropout): Dropout(p=0.1, inplace=False)\n",
       "    )\n",
       "    (encoder): RobertaEncoder(\n",
       "      (layer): ModuleList(\n",
       "        (0-11): 12 x RobertaLayer(\n",
       "          (attention): RobertaAttention(\n",
       "            (self): RobertaSelfAttention(\n",
       "              (query): Linear(in_features=768, out_features=768, bias=True)\n",
       "              (key): Linear(in_features=768, out_features=768, bias=True)\n",
       "              (value): Linear(in_features=768, out_features=768, bias=True)\n",
       "              (dropout): Dropout(p=0.1, inplace=False)\n",
       "            )\n",
       "            (output): RobertaSelfOutput(\n",
       "              (dense): Linear(in_features=768, out_features=768, bias=True)\n",
       "              (LayerNorm): LayerNorm((768,), eps=1e-05, elementwise_affine=True)\n",
       "              (dropout): Dropout(p=0.1, inplace=False)\n",
       "            )\n",
       "          )\n",
       "          (intermediate): RobertaIntermediate(\n",
       "            (dense): Linear(in_features=768, out_features=3072, bias=True)\n",
       "            (intermediate_act_fn): GELUActivation()\n",
       "          )\n",
       "          (output): RobertaOutput(\n",
       "            (dense): Linear(in_features=3072, out_features=768, bias=True)\n",
       "            (LayerNorm): LayerNorm((768,), eps=1e-05, elementwise_affine=True)\n",
       "            (dropout): Dropout(p=0.1, inplace=False)\n",
       "          )\n",
       "        )\n",
       "      )\n",
       "    )\n",
       "    (pooler): RobertaPooler(\n",
       "      (dense): Linear(in_features=768, out_features=768, bias=True)\n",
       "      (activation): Tanh()\n",
       "    )\n",
       "  )\n",
       "  (dropout): Dropout(p=0.5, inplace=False)\n",
       "  (classifier): Linear(in_features=768, out_features=3, bias=True)\n",
       "  (activation): GELU(approximate='none')\n",
       ")"
      ]
     },
     "execution_count": 171,
     "metadata": {},
     "output_type": "execute_result"
    }
   ],
   "source": [
    "# Specify the pretrained BERT model name\n",
    "model_name = 'roberta-base'\n",
    "\n",
    "# Create an instance of the model\n",
    "model = RobertaWithActivationAndRegularization(pretrained_model_name='roberta-base', num_labels=3)\n",
    "\n",
    "# Move the model to GPU if available\n",
    "device = torch.device(\"cuda\" if torch.cuda.is_available() else \"cpu\")\n",
    "model.to(device)"
   ]
  },
  {
   "cell_type": "code",
   "execution_count": 172,
   "metadata": {},
   "outputs": [],
   "source": [
    "import torch.optim as optim\n",
    "\n",
    "# Define the optimizer and criterion\n",
    "learning_rate = 2e-06\n",
    "weight_decay = 0.0001  \n",
    "optimizer = optim.AdamW(model.parameters(), lr=learning_rate, weight_decay=weight_decay)\n",
    "criterion = nn.CrossEntropyLoss()"
   ]
  },
  {
   "cell_type": "code",
   "execution_count": 173,
   "metadata": {},
   "outputs": [],
   "source": [
    "# Lists to store losses for this fold\n",
    "train_losses_fold = []\n",
    "valid_losses_fold = []\n",
    "accuracies_fold = []"
   ]
  },
  {
   "cell_type": "code",
   "execution_count": 176,
   "metadata": {},
   "outputs": [
    {
     "name": "stdout",
     "output_type": "stream",
     "text": [
      "Epoch 1/6 - Training Loss: 1.1021 - Validation Loss: 1.0970 - Training Accuracy: 0.3222 - Validation Accuracy: 0.3500\n",
      "Epoch 2/6 - Training Loss: 1.0950 - Validation Loss: 1.0966 - Training Accuracy: 0.3417 - Validation Accuracy: 0.3500\n",
      "Epoch 3/6 - Training Loss: 1.1098 - Validation Loss: 1.0960 - Training Accuracy: 0.3278 - Validation Accuracy: 0.3000\n",
      "Epoch 4/6 - Training Loss: 1.0989 - Validation Loss: 1.0954 - Training Accuracy: 0.3417 - Validation Accuracy: 0.3250\n",
      "Epoch 5/6 - Training Loss: 1.0992 - Validation Loss: 1.0899 - Training Accuracy: 0.3056 - Validation Accuracy: 0.4250\n",
      "Epoch 6/6 - Training Loss: 1.0748 - Validation Loss: 1.0630 - Training Accuracy: 0.4361 - Validation Accuracy: 0.5000\n"
     ]
    }
   ],
   "source": [
    "# Training loop\n",
    "epochs = 6\n",
    "for epoch in range(epochs):\n",
    "    model.train()\n",
    "    total_train_loss = 0\n",
    "    correct_train = 0\n",
    "    total_train = 0\n",
    "    for batch in train_dataloader:\n",
    "        input_ids, attention_mask, labels = batch\n",
    "        input_ids, attention_mask, labels = input_ids.to(device), attention_mask.to(device), labels.to(device)\n",
    "        labels = labels.reshape(-1)  # Reshape labels once\n",
    "\n",
    "        optimizer.zero_grad()\n",
    "        outputs = model(input_ids=input_ids, attention_mask=attention_mask)\n",
    "        logits = outputs\n",
    "        loss = criterion(logits, labels)\n",
    "        total_train_loss += loss.item()\n",
    "\n",
    "        _, predicted = torch.max(logits, 1)\n",
    "        correct_train += (predicted == labels).sum().item()\n",
    "        total_train += labels.size(0)\n",
    "\n",
    "        loss.backward()\n",
    "        optimizer.step()\n",
    "\n",
    "    average_train_loss = total_train_loss / len(train_dataloader)\n",
    "    train_losses_fold.append(average_train_loss)\n",
    "\n",
    "    # Validation loop\n",
    "    model.eval()\n",
    "    total_valid_loss = 0\n",
    "    correct_valid = 0\n",
    "    total_valid = 0\n",
    "    with torch.no_grad():\n",
    "        for batch in val_dataloader:\n",
    "            input_ids, attention_mask, labels = batch\n",
    "            input_ids, attention_mask, labels = input_ids.to(device), attention_mask.to(device), labels.to(device)\n",
    "            labels = labels.reshape(-1)  # Reshape labels once\n",
    "\n",
    "            outputs = model(input_ids=input_ids, attention_mask=attention_mask)\n",
    "            logits = outputs\n",
    "\n",
    "            loss = criterion(logits, labels)\n",
    "            total_valid_loss += loss.item()\n",
    "            \n",
    "            _, predicted = torch.max(logits, 1)\n",
    "            correct_valid += (predicted == labels).sum().item() \n",
    "            total_valid += labels.size(0)\n",
    "\n",
    "    average_valid_loss = total_valid_loss / len(val_dataloader)\n",
    "    valid_losses_fold.append(average_valid_loss)\n",
    "\n",
    "    # Calculate accuracy for this fold\n",
    "    accuracy_train = correct_train / total_train\n",
    "    accuracy_valid = correct_valid / total_valid\n",
    "    accuracies_fold.append((accuracy_train, accuracy_valid))\n",
    "\n",
    "    print(f'Epoch {epoch+1}/{epochs} - Training Loss: {average_train_loss:.4f} - Validation Loss: {average_valid_loss:.4f} - Training Accuracy: {accuracy_train:.4f} - Validation Accuracy: {accuracy_valid:.4f}')\n",
    "\n",
    "# Save metrics for this fold\n",
    "train_losses_per_fold.append(train_losses_fold)\n",
    "valid_losses_per_fold.append(valid_losses_fold)\n",
    "accuracies_per_fold.append(accuracies_fold)"
   ]
  },
  {
   "cell_type": "code",
   "execution_count": 177,
   "metadata": {},
   "outputs": [
    {
     "name": "stdout",
     "output_type": "stream",
     "text": [
      "Length of train_losses_fold: 7\n",
      "Length of valid_losses_fold: 6\n"
     ]
    }
   ],
   "source": [
    " # Debugging print statements to check the lengths\n",
    "print(\"Length of train_losses_fold:\", len(train_losses_fold))\n",
    "print(\"Length of valid_losses_fold:\", len(valid_losses_fold)) "
   ]
  },
  {
   "cell_type": "code",
   "execution_count": 181,
   "metadata": {},
   "outputs": [
    {
     "data": {
      "text/plain": [
       "(6, 7)"
      ]
     },
     "execution_count": 181,
     "metadata": {},
     "output_type": "execute_result"
    }
   ],
   "source": []
  },
  {
   "cell_type": "code",
   "execution_count": 182,
   "metadata": {},
   "outputs": [
    {
     "data": {
      "image/png": "[encoded data removed]",
      "text/plain": [
       "<Figure size 400x200 with 1 Axes>"
      ]
     },
     "metadata": {},
     "output_type": "display_data"
    }
   ],
   "source": [
    "# Plotting training and validation losses for all folds\n",
    "num_epochs = len(train_losses_fold)\n",
    "plt.figure(figsize=(4, 2))\n",
    "plt.plot(range(1, num_epochs + 1), train_losses_fold, label='Training Loss')\n",
    "plt.plot(range(1, num_epochs ), valid_losses_fold, label='Validation Loss')\n",
    "plt.xlabel('Epochs')\n",
    "plt.ylabel('Loss')\n",
    "plt.title('Training and Validation Loss over Epochs for all Folds')\n",
    "plt.legend()\n",
    "plt.grid(True)\n",
    "plt.show()"
   ]
  },
  {
   "cell_type": "code",
   "execution_count": 183,
   "metadata": {},
   "outputs": [],
   "source": [
    "# Save RoBerta Model\n",
    "SAVE_LOC = './model-artifacts/'\n",
    "torch.save(model.state_dict(), f'{SAVE_LOC}roberta_model.pth')"
   ]
  },
  {
   "cell_type": "code",
   "execution_count": 186,
   "metadata": {},
   "outputs": [
    {
     "name": "stderr",
     "output_type": "stream",
     "text": [
      "Some weights of RobertaModel were not initialized from the model checkpoint at roberta-base and are newly initialized: ['roberta.pooler.dense.bias', 'roberta.pooler.dense.weight']\n",
      "You should probably TRAIN this model on a down-stream task to be able to use it for predictions and inference.\n"
     ]
    }
   ],
   "source": [
    "# Load model\n",
    "model = RobertaWithActivationAndRegularization(pretrained_model_name='roberta-base', num_labels=3,)\n",
    "model.load_state_dict(torch.load(f'{SAVE_LOC}roberta_model.pth'))\n",
    "    "
   ]
  },
  {
   "cell_type": "code",
   "execution_count": 190,
   "metadata": {},
   "outputs": [
    {
     "ename": "TypeError",
     "evalue": "Module.__dir__() missing 1 required positional argument: 'self'",
     "output_type": "error",
     "traceback": [
      "\u001b[0;31m---------------------------------------------------------------------------\u001b[0m",
      "\u001b[0;31mTypeError\u001b[0m                                 Traceback (most recent call last)",
      "Cell \u001b[0;32mIn[190], line 1\u001b[0m\n\u001b[0;32m----> 1\u001b[0m \u001b[43mRobertaWithActivationAndRegularization\u001b[49m\u001b[38;5;241;43m.\u001b[39;49m\u001b[38;5;21;43m__dir__\u001b[39;49m\u001b[43m(\u001b[49m\u001b[43m)\u001b[49m\n",
      "\u001b[0;31mTypeError\u001b[0m: Module.__dir__() missing 1 required positional argument: 'self'"
     ]
    }
   ],
   "source": [
    "RobertaWithActivationAndRegularization()"
   ]
  },
  {
   "cell_type": "code",
   "execution_count": 192,
   "metadata": {},
   "outputs": [
    {
     "name": "stderr",
     "output_type": "stream",
     "text": [
      "Some weights of RobertaModel were not initialized from the model checkpoint at roberta-base and are newly initialized: ['roberta.pooler.dense.bias', 'roberta.pooler.dense.weight']\n",
      "You should probably TRAIN this model on a down-stream task to be able to use it for predictions and inference.\n"
     ]
    },
    {
     "data": {
      "text/plain": [
       "RobertaModel(\n",
       "  (embeddings): RobertaEmbeddings(\n",
       "    (word_embeddings): Embedding(50265, 768, padding_idx=1)\n",
       "    (position_embeddings): Embedding(514, 768, padding_idx=1)\n",
       "    (token_type_embeddings): Embedding(1, 768)\n",
       "    (LayerNorm): LayerNorm((768,), eps=1e-05, elementwise_affine=True)\n",
       "    (dropout): Dropout(p=0.1, inplace=False)\n",
       "  )\n",
       "  (encoder): RobertaEncoder(\n",
       "    (layer): ModuleList(\n",
       "      (0-11): 12 x RobertaLayer(\n",
       "        (attention): RobertaAttention(\n",
       "          (self): RobertaSelfAttention(\n",
       "            (query): Linear(in_features=768, out_features=768, bias=True)\n",
       "            (key): Linear(in_features=768, out_features=768, bias=True)\n",
       "            (value): Linear(in_features=768, out_features=768, bias=True)\n",
       "            (dropout): Dropout(p=0.1, inplace=False)\n",
       "          )\n",
       "          (output): RobertaSelfOutput(\n",
       "            (dense): Linear(in_features=768, out_features=768, bias=True)\n",
       "            (LayerNorm): LayerNorm((768,), eps=1e-05, elementwise_affine=True)\n",
       "            (dropout): Dropout(p=0.1, inplace=False)\n",
       "          )\n",
       "        )\n",
       "        (intermediate): RobertaIntermediate(\n",
       "          (dense): Linear(in_features=768, out_features=3072, bias=True)\n",
       "          (intermediate_act_fn): GELUActivation()\n",
       "        )\n",
       "        (output): RobertaOutput(\n",
       "          (dense): Linear(in_features=3072, out_features=768, bias=True)\n",
       "          (LayerNorm): LayerNorm((768,), eps=1e-05, elementwise_affine=True)\n",
       "          (dropout): Dropout(p=0.1, inplace=False)\n",
       "        )\n",
       "      )\n",
       "    )\n",
       "  )\n",
       "  (pooler): RobertaPooler(\n",
       "    (dense): Linear(in_features=768, out_features=768, bias=True)\n",
       "    (activation): Tanh()\n",
       "  )\n",
       ")"
      ]
     },
     "execution_count": 192,
     "metadata": {},
     "output_type": "execute_result"
    }
   ],
   "source": [
    "# RobertaWithActivationAndRegularization.from_pretrained('roberta-base', num_labels=3)\n",
    "RobertaModel.from_pretrained('roberta-base')"
   ]
  },
  {
   "cell_type": "code",
   "execution_count": null,
   "metadata": {},
   "outputs": [],
   "source": [
    "\n",
    "# Evaluate on test data\n",
    "model.eval()\n",
    "input_ids_test, attention_masks_test, y_test = RoBertaTokenizer(X_test, y_test)\n",
    "test_dataset = TensorDataset(input_ids_test, attention_masks_test, y_test)\n",
    "test_dataloader = DataLoader(test_dataset, batch_size=BATCH_SIZE)\n",
    "\n",
    "total_test_loss = 0\n",
    "correct_test = 0\n",
    "total_test = 0\n",
    "\n",
    "with torch.no_grad():\n",
    "    for batch in test_dataloader:\n",
    "        input_ids, attention_mask, labels = batch\n",
    "        input_ids, attention_mask, labels = input_ids.to(device), attention_mask.to(device), labels.to(device)\n",
    "        labels = labels.reshape(-1)  # Reshape labels once\n",
    "\n",
    "        outputs = model(input_ids=input_ids, attention_mask=attention_mask)\n",
    "        logits = outputs\n",
    "        loss = criterion(logits, labels)\n",
    "        total_test_loss += loss.item()\n",
    "\n",
    "        _, predicted = torch.max(logits, 1)\n",
    "        correct_test += (predicted == labels).sum().item() \n",
    "        total_test += labels.size(0)\n",
    "        accuracy_test = correct_test / total_test\n",
    "        print(f'Test Loss: {total_test_loss:.4f} - Test Accuracy: {accuracy_test:.4f}')\n",
    "        "
   ]
  },
  {
   "cell_type": "code",
   "execution_count": null,
   "metadata": {},
   "outputs": [],
   "source": []
  }
 ],
 "metadata": {
  "kernelspec": {
   "display_name": "Python 3",
   "language": "python",
   "name": "python3"
  },
  "language_info": {
   "codemirror_mode": {
    "name": "ipython",
    "version": 3
   },
   "file_extension": ".py",
   "mimetype": "text/x-python",
   "name": "python",
   "nbconvert_exporter": "python",
   "pygments_lexer": "ipython3",
   "version": "3.12.0"
  }
 },
 "nbformat": 4,
 "nbformat_minor": 2
}
